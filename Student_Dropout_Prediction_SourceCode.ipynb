{
  "cells": [
    {
      "cell_type": "markdown",
      "source": [
        "Problem definition:\n",
        "This is a binary classification problem which classifies the dropout or   consistent student using various feature selection techniques and algorithms.  "
      ],
      "metadata": {
        "id": "vh3LdnrMlsW-"
      }
    },
    {
      "cell_type": "markdown",
      "source": [
        "Tools:\n",
        "> Python   \n",
        "> sklearn   \n",
        "\n",
        "Techniques: \n",
        "> Feature selection:\n",
        "1. Correlation\n",
        "2. Select K-Best\n",
        "\n",
        "\n",
        "\n",
        "\n",
        "\n",
        "\n",
        "\n",
        "\n",
        "\n",
        "\n",
        "\n",
        "\n",
        "\n"
      ],
      "metadata": {
        "id": "WtYvd9tFmMgY"
      }
    },
    {
      "cell_type": "code",
      "source": [
        "# python version\n",
        "print('Python version is:')\n",
        "!python --version"
      ],
      "metadata": {
        "colab": {
          "base_uri": "https://localhost:8080/"
        },
        "id": "dZ4Dewf8bI8X",
        "outputId": "8066ee96-a19f-44cf-c311-cb64e37adb1c"
      },
      "execution_count": null,
      "outputs": [
        {
          "output_type": "stream",
          "name": "stdout",
          "text": [
            "Python version is:\n",
            "Python 3.7.15\n"
          ]
        }
      ]
    },
    {
      "cell_type": "code",
      "execution_count": null,
      "metadata": {
        "id": "bD-Dp_F5sBx6"
      },
      "outputs": [],
      "source": [
        "# basic principal python librabries \n",
        "import pandas as pd\n",
        "import seaborn as sns\n",
        "import matplotlib.pyplot as plt\n",
        "import numpy as np\n",
        "import sys\n",
        "# sklearn for preprocessing\n",
        "from sklearn.model_selection import train_test_split,StratifiedKFold\n",
        "from sklearn.preprocessing import MinMaxScaler\n",
        "from sklearn.preprocessing import StandardScaler\n",
        "from sklearn.pipeline import make_pipeline\n",
        "from sklearn.metrics import confusion_matrix\n",
        "# sklearn feature selection module\n",
        "from sklearn.feature_selection import mutual_info_regression, mutual_info_classif\n",
        "from sklearn.feature_selection import SelectKBest, f_classif\n",
        "from sklearn.feature_selection import RFECV\n",
        "from sklearn.feature_selection import RFE\n",
        "#sklearn algorithms\n",
        "from sklearn.svm import LinearSVC\n",
        "from sklearn.ensemble import RandomForestClassifier\n",
        "from sklearn.naive_bayes import GaussianNB\n",
        "from sklearn.neighbors import KNeighborsClassifier\n",
        "\n",
        "\n",
        "\n",
        "import warnings\n",
        "import warnings\n",
        "warnings.simplefilter(action='ignore', category=FutureWarning)\n"
      ]
    },
    {
      "cell_type": "code",
      "execution_count": null,
      "metadata": {
        "colab": {
          "base_uri": "https://localhost:8080/"
        },
        "id": "Cg_wuVD0098O",
        "outputId": "ec5be1cc-0df8-4c3f-8601-a5c0fcd03e63"
      },
      "outputs": [
        {
          "output_type": "stream",
          "name": "stdout",
          "text": [
            "Drive already mounted at /content/drive; to attempt to forcibly remount, call drive.mount(\"/content/drive\", force_remount=True).\n"
          ]
        }
      ],
      "source": [
        "from google.colab import drive\n",
        "drive.mount('/content/drive')"
      ]
    },
    {
      "cell_type": "code",
      "execution_count": null,
      "metadata": {
        "colab": {
          "base_uri": "https://localhost:8080/",
          "height": 508
        },
        "id": "ynDMaVSgyBUw",
        "outputId": "7c253442-dd36-41c5-f104-a633b870b820"
      },
      "outputs": [
        {
          "output_type": "execute_result",
          "data": {
            "text/plain": [
              "   index  SEM 1 SGPA  SEM 1 KT  SEM 2 SGPA  SEM 2 KT  SEM 3 SGPA  SEM 3 KT  \\\n",
              "0      0        7.10         0        6.85         0        7.20       1.0   \n",
              "1      1        7.20         0        7.10         0        6.11       0.0   \n",
              "2      2        3.80         4        4.20         2        4.20       1.0   \n",
              "3      3        6.91         1        6.60         2        5.82       1.0   \n",
              "4      4        3.50         1        3.40         2        4.00       2.0   \n",
              "\n",
              "   SEM 4 SGPA  SEM 4 KT  SEM 5 SGPA  ...  2_hrs_lect  Submissions  5_hrs_lect  \\\n",
              "0        7.30       0.0        7.60  ...           0            0           0   \n",
              "1        6.67       0.0        7.14  ...           1            1           0   \n",
              "2        3.80       2.0        4.35  ...           0            1           0   \n",
              "3        6.10       0.0        7.71  ...           0            1           0   \n",
              "4        4.10       2.0        3.63  ...           0            0           0   \n",
              "\n",
              "   5_hrs_pracs  Coaching_classes                  Teacher's Feedback  Label  \\\n",
              "0            0                 0        Disciplined and hard working      1   \n",
              "1            0                 1              Good leadership skills      1   \n",
              "2            0                 0  Very talkative and Poor attendance      0   \n",
              "3            1                 0  Respectful to Authority and Others      1   \n",
              "4            0                 0                        Bunk lectuer      0   \n",
              "\n",
              "   Scocial_Skills  Average pointer       Cleaned_Feedback  \n",
              "0               0          7.13125    disciplin hard work  \n",
              "1               1          7.05375  good leadership skill  \n",
              "2               0          4.05875     talkat poor attend  \n",
              "3               0          6.50500   respect author other  \n",
              "4               0          3.81500           bunk lectuer  \n",
              "\n",
              "[5 rows x 33 columns]"
            ],
            "text/html": [
              "\n",
              "  <div id=\"df-16a5a111-85be-4f51-a1e2-377874d8ca30\">\n",
              "    <div class=\"colab-df-container\">\n",
              "      <div>\n",
              "<style scoped>\n",
              "    .dataframe tbody tr th:only-of-type {\n",
              "        vertical-align: middle;\n",
              "    }\n",
              "\n",
              "    .dataframe tbody tr th {\n",
              "        vertical-align: top;\n",
              "    }\n",
              "\n",
              "    .dataframe thead th {\n",
              "        text-align: right;\n",
              "    }\n",
              "</style>\n",
              "<table border=\"1\" class=\"dataframe\">\n",
              "  <thead>\n",
              "    <tr style=\"text-align: right;\">\n",
              "      <th></th>\n",
              "      <th>index</th>\n",
              "      <th>SEM 1 SGPA</th>\n",
              "      <th>SEM 1 KT</th>\n",
              "      <th>SEM 2 SGPA</th>\n",
              "      <th>SEM 2 KT</th>\n",
              "      <th>SEM 3 SGPA</th>\n",
              "      <th>SEM 3 KT</th>\n",
              "      <th>SEM 4 SGPA</th>\n",
              "      <th>SEM 4 KT</th>\n",
              "      <th>SEM 5 SGPA</th>\n",
              "      <th>...</th>\n",
              "      <th>2_hrs_lect</th>\n",
              "      <th>Submissions</th>\n",
              "      <th>5_hrs_lect</th>\n",
              "      <th>5_hrs_pracs</th>\n",
              "      <th>Coaching_classes</th>\n",
              "      <th>Teacher's Feedback</th>\n",
              "      <th>Label</th>\n",
              "      <th>Scocial_Skills</th>\n",
              "      <th>Average pointer</th>\n",
              "      <th>Cleaned_Feedback</th>\n",
              "    </tr>\n",
              "  </thead>\n",
              "  <tbody>\n",
              "    <tr>\n",
              "      <th>0</th>\n",
              "      <td>0</td>\n",
              "      <td>7.10</td>\n",
              "      <td>0</td>\n",
              "      <td>6.85</td>\n",
              "      <td>0</td>\n",
              "      <td>7.20</td>\n",
              "      <td>1.0</td>\n",
              "      <td>7.30</td>\n",
              "      <td>0.0</td>\n",
              "      <td>7.60</td>\n",
              "      <td>...</td>\n",
              "      <td>0</td>\n",
              "      <td>0</td>\n",
              "      <td>0</td>\n",
              "      <td>0</td>\n",
              "      <td>0</td>\n",
              "      <td>Disciplined and hard working</td>\n",
              "      <td>1</td>\n",
              "      <td>0</td>\n",
              "      <td>7.13125</td>\n",
              "      <td>disciplin hard work</td>\n",
              "    </tr>\n",
              "    <tr>\n",
              "      <th>1</th>\n",
              "      <td>1</td>\n",
              "      <td>7.20</td>\n",
              "      <td>0</td>\n",
              "      <td>7.10</td>\n",
              "      <td>0</td>\n",
              "      <td>6.11</td>\n",
              "      <td>0.0</td>\n",
              "      <td>6.67</td>\n",
              "      <td>0.0</td>\n",
              "      <td>7.14</td>\n",
              "      <td>...</td>\n",
              "      <td>1</td>\n",
              "      <td>1</td>\n",
              "      <td>0</td>\n",
              "      <td>0</td>\n",
              "      <td>1</td>\n",
              "      <td>Good leadership skills</td>\n",
              "      <td>1</td>\n",
              "      <td>1</td>\n",
              "      <td>7.05375</td>\n",
              "      <td>good leadership skill</td>\n",
              "    </tr>\n",
              "    <tr>\n",
              "      <th>2</th>\n",
              "      <td>2</td>\n",
              "      <td>3.80</td>\n",
              "      <td>4</td>\n",
              "      <td>4.20</td>\n",
              "      <td>2</td>\n",
              "      <td>4.20</td>\n",
              "      <td>1.0</td>\n",
              "      <td>3.80</td>\n",
              "      <td>2.0</td>\n",
              "      <td>4.35</td>\n",
              "      <td>...</td>\n",
              "      <td>0</td>\n",
              "      <td>1</td>\n",
              "      <td>0</td>\n",
              "      <td>0</td>\n",
              "      <td>0</td>\n",
              "      <td>Very talkative and Poor attendance</td>\n",
              "      <td>0</td>\n",
              "      <td>0</td>\n",
              "      <td>4.05875</td>\n",
              "      <td>talkat poor attend</td>\n",
              "    </tr>\n",
              "    <tr>\n",
              "      <th>3</th>\n",
              "      <td>3</td>\n",
              "      <td>6.91</td>\n",
              "      <td>1</td>\n",
              "      <td>6.60</td>\n",
              "      <td>2</td>\n",
              "      <td>5.82</td>\n",
              "      <td>1.0</td>\n",
              "      <td>6.10</td>\n",
              "      <td>0.0</td>\n",
              "      <td>7.71</td>\n",
              "      <td>...</td>\n",
              "      <td>0</td>\n",
              "      <td>1</td>\n",
              "      <td>0</td>\n",
              "      <td>1</td>\n",
              "      <td>0</td>\n",
              "      <td>Respectful to Authority and Others</td>\n",
              "      <td>1</td>\n",
              "      <td>0</td>\n",
              "      <td>6.50500</td>\n",
              "      <td>respect author other</td>\n",
              "    </tr>\n",
              "    <tr>\n",
              "      <th>4</th>\n",
              "      <td>4</td>\n",
              "      <td>3.50</td>\n",
              "      <td>1</td>\n",
              "      <td>3.40</td>\n",
              "      <td>2</td>\n",
              "      <td>4.00</td>\n",
              "      <td>2.0</td>\n",
              "      <td>4.10</td>\n",
              "      <td>2.0</td>\n",
              "      <td>3.63</td>\n",
              "      <td>...</td>\n",
              "      <td>0</td>\n",
              "      <td>0</td>\n",
              "      <td>0</td>\n",
              "      <td>0</td>\n",
              "      <td>0</td>\n",
              "      <td>Bunk lectuer</td>\n",
              "      <td>0</td>\n",
              "      <td>0</td>\n",
              "      <td>3.81500</td>\n",
              "      <td>bunk lectuer</td>\n",
              "    </tr>\n",
              "  </tbody>\n",
              "</table>\n",
              "<p>5 rows × 33 columns</p>\n",
              "</div>\n",
              "      <button class=\"colab-df-convert\" onclick=\"convertToInteractive('df-16a5a111-85be-4f51-a1e2-377874d8ca30')\"\n",
              "              title=\"Convert this dataframe to an interactive table.\"\n",
              "              style=\"display:none;\">\n",
              "        \n",
              "  <svg xmlns=\"http://www.w3.org/2000/svg\" height=\"24px\"viewBox=\"0 0 24 24\"\n",
              "       width=\"24px\">\n",
              "    <path d=\"M0 0h24v24H0V0z\" fill=\"none\"/>\n",
              "    <path d=\"M18.56 5.44l.94 2.06.94-2.06 2.06-.94-2.06-.94-.94-2.06-.94 2.06-2.06.94zm-11 1L8.5 8.5l.94-2.06 2.06-.94-2.06-.94L8.5 2.5l-.94 2.06-2.06.94zm10 10l.94 2.06.94-2.06 2.06-.94-2.06-.94-.94-2.06-.94 2.06-2.06.94z\"/><path d=\"M17.41 7.96l-1.37-1.37c-.4-.4-.92-.59-1.43-.59-.52 0-1.04.2-1.43.59L10.3 9.45l-7.72 7.72c-.78.78-.78 2.05 0 2.83L4 21.41c.39.39.9.59 1.41.59.51 0 1.02-.2 1.41-.59l7.78-7.78 2.81-2.81c.8-.78.8-2.07 0-2.86zM5.41 20L4 18.59l7.72-7.72 1.47 1.35L5.41 20z\"/>\n",
              "  </svg>\n",
              "      </button>\n",
              "      \n",
              "  <style>\n",
              "    .colab-df-container {\n",
              "      display:flex;\n",
              "      flex-wrap:wrap;\n",
              "      gap: 12px;\n",
              "    }\n",
              "\n",
              "    .colab-df-convert {\n",
              "      background-color: #E8F0FE;\n",
              "      border: none;\n",
              "      border-radius: 50%;\n",
              "      cursor: pointer;\n",
              "      display: none;\n",
              "      fill: #1967D2;\n",
              "      height: 32px;\n",
              "      padding: 0 0 0 0;\n",
              "      width: 32px;\n",
              "    }\n",
              "\n",
              "    .colab-df-convert:hover {\n",
              "      background-color: #E2EBFA;\n",
              "      box-shadow: 0px 1px 2px rgba(60, 64, 67, 0.3), 0px 1px 3px 1px rgba(60, 64, 67, 0.15);\n",
              "      fill: #174EA6;\n",
              "    }\n",
              "\n",
              "    [theme=dark] .colab-df-convert {\n",
              "      background-color: #3B4455;\n",
              "      fill: #D2E3FC;\n",
              "    }\n",
              "\n",
              "    [theme=dark] .colab-df-convert:hover {\n",
              "      background-color: #434B5C;\n",
              "      box-shadow: 0px 1px 3px 1px rgba(0, 0, 0, 0.15);\n",
              "      filter: drop-shadow(0px 1px 2px rgba(0, 0, 0, 0.3));\n",
              "      fill: #FFFFFF;\n",
              "    }\n",
              "  </style>\n",
              "\n",
              "      <script>\n",
              "        const buttonEl =\n",
              "          document.querySelector('#df-16a5a111-85be-4f51-a1e2-377874d8ca30 button.colab-df-convert');\n",
              "        buttonEl.style.display =\n",
              "          google.colab.kernel.accessAllowed ? 'block' : 'none';\n",
              "\n",
              "        async function convertToInteractive(key) {\n",
              "          const element = document.querySelector('#df-16a5a111-85be-4f51-a1e2-377874d8ca30');\n",
              "          const dataTable =\n",
              "            await google.colab.kernel.invokeFunction('convertToInteractive',\n",
              "                                                     [key], {});\n",
              "          if (!dataTable) return;\n",
              "\n",
              "          const docLinkHtml = 'Like what you see? Visit the ' +\n",
              "            '<a target=\"_blank\" href=https://colab.research.google.com/notebooks/data_table.ipynb>data table notebook</a>'\n",
              "            + ' to learn more about interactive tables.';\n",
              "          element.innerHTML = '';\n",
              "          dataTable['output_type'] = 'display_data';\n",
              "          await google.colab.output.renderOutput(dataTable, element);\n",
              "          const docLink = document.createElement('div');\n",
              "          docLink.innerHTML = docLinkHtml;\n",
              "          element.appendChild(docLink);\n",
              "        }\n",
              "      </script>\n",
              "    </div>\n",
              "  </div>\n",
              "  "
            ]
          },
          "metadata": {},
          "execution_count": 203
        }
      ],
      "source": [
        "data=pd.read_csv('/content/drive/MyDrive/Colab Notebooks/Dataset.csv')\n",
        "data.head()"
      ]
    },
    {
      "cell_type": "code",
      "execution_count": null,
      "metadata": {
        "id": "dY2Wf9a16-Rx"
      },
      "outputs": [],
      "source": [
        "data.drop('index',inplace=True,axis=1)\n",
        "# data"
      ]
    },
    {
      "cell_type": "code",
      "execution_count": null,
      "metadata": {
        "colab": {
          "base_uri": "https://localhost:8080/"
        },
        "id": "Cy3pYzXq4yd0",
        "outputId": "abb4714a-3de6-4538-8ee5-ece108d5e503"
      },
      "outputs": [
        {
          "output_type": "execute_result",
          "data": {
            "text/plain": [
              "Index(['SEM 1 SGPA', 'SEM 1 KT', 'SEM 2 SGPA', 'SEM 2 KT', 'SEM 3 SGPA',\n",
              "       'SEM 3 KT', 'SEM 4 SGPA', 'SEM 4 KT', 'SEM 5 SGPA', 'SEM 5 KT',\n",
              "       'SEM 6 SGPA', 'SEM 6 KT', 'SEM 7 SGPA', 'SEM 7 KT', 'SEM 8 SGPA',\n",
              "       'Hours_On_Assignment', 'Hours_On_Studies', 'Travel_Time', 'Attendance',\n",
              "       'Internet_Availability', 'Internet_Speed', 'Mode_Of_Transportation',\n",
              "       '2_hrs_lect', 'Submissions', '5_hrs_lect', '5_hrs_pracs',\n",
              "       'Coaching_classes', 'Teacher's Feedback', 'Label', 'Scocial_Skills',\n",
              "       'Average pointer', 'Cleaned_Feedback'],\n",
              "      dtype='object')"
            ]
          },
          "metadata": {},
          "execution_count": 205
        }
      ],
      "source": [
        "# independent features in the dataset\n",
        "data.columns"
      ]
    },
    {
      "cell_type": "code",
      "execution_count": null,
      "metadata": {
        "colab": {
          "base_uri": "https://localhost:8080/"
        },
        "id": "nQvpsY9q47PQ",
        "outputId": "05bce959-a7d7-4ec7-9786-f419bf4de230"
      },
      "outputs": [
        {
          "output_type": "execute_result",
          "data": {
            "text/plain": [
              "32"
            ]
          },
          "metadata": {},
          "execution_count": 206
        }
      ],
      "source": [
        "#number of columns\n",
        "len(data.columns)"
      ]
    },
    {
      "cell_type": "code",
      "execution_count": null,
      "metadata": {
        "id": "1JGKkzSY5FZe"
      },
      "outputs": [],
      "source": [
        "#numerical columns\n",
        "numerical = ['int16', 'int32', 'int64', 'float16', 'float32', 'float64']\n",
        "data_num = data.select_dtypes(include=numerical)"
      ]
    },
    {
      "cell_type": "code",
      "execution_count": null,
      "metadata": {
        "colab": {
          "base_uri": "https://localhost:8080/"
        },
        "id": "6b-LkPmH7wz5",
        "outputId": "51900a16-f6b8-43ca-ae59-f1b1f5891adb"
      },
      "outputs": [
        {
          "output_type": "execute_result",
          "data": {
            "text/plain": [
              "['SEM 1 SGPA',\n",
              " 'SEM 1 KT',\n",
              " 'SEM 2 SGPA',\n",
              " 'SEM 2 KT',\n",
              " 'SEM 3 SGPA',\n",
              " 'SEM 3 KT',\n",
              " 'SEM 4 SGPA',\n",
              " 'SEM 4 KT',\n",
              " 'SEM 5 SGPA',\n",
              " 'SEM 5 KT',\n",
              " 'SEM 6 SGPA',\n",
              " 'SEM 6 KT',\n",
              " 'SEM 7 SGPA',\n",
              " 'SEM 7 KT',\n",
              " 'SEM 8 SGPA',\n",
              " 'Hours_On_Assignment',\n",
              " 'Hours_On_Studies',\n",
              " 'Travel_Time',\n",
              " 'Attendance',\n",
              " 'Internet_Availability',\n",
              " 'Internet_Speed',\n",
              " 'Mode_Of_Transportation',\n",
              " '2_hrs_lect',\n",
              " 'Submissions',\n",
              " '5_hrs_lect',\n",
              " '5_hrs_pracs',\n",
              " 'Coaching_classes',\n",
              " 'Label',\n",
              " 'Scocial_Skills',\n",
              " 'Average pointer']"
            ]
          },
          "metadata": {},
          "execution_count": 208
        }
      ],
      "source": [
        "\n",
        "data_num.select_dtypes(include = numerical).columns.tolist()\n"
      ]
    },
    {
      "cell_type": "code",
      "execution_count": null,
      "metadata": {
        "colab": {
          "base_uri": "https://localhost:8080/"
        },
        "id": "iv3Xy5kp5flw",
        "outputId": "d7e148a1-1b97-47b8-9f15-4736bb9c31a6"
      },
      "outputs": [
        {
          "output_type": "stream",
          "name": "stdout",
          "text": [
            "30\n"
          ]
        }
      ],
      "source": [
        "#number of numerical columns\n",
        "print(len(data.select_dtypes(include = numerical).columns.tolist()))\n"
      ]
    },
    {
      "cell_type": "code",
      "execution_count": null,
      "metadata": {
        "colab": {
          "base_uri": "https://localhost:8080/"
        },
        "id": "e1-gv0WI6fBT",
        "outputId": "693b26a1-bfb8-4348-ecb2-680f0d59f229"
      },
      "outputs": [
        {
          "output_type": "execute_result",
          "data": {
            "text/plain": [
              "[\"Teacher's Feedback\", 'Cleaned_Feedback']"
            ]
          },
          "metadata": {},
          "execution_count": 210
        }
      ],
      "source": [
        "# categorical columns\n",
        "data.select_dtypes(include = 'object').columns.tolist()"
      ]
    },
    {
      "cell_type": "code",
      "execution_count": null,
      "metadata": {
        "colab": {
          "base_uri": "https://localhost:8080/"
        },
        "id": "8b6NReLe60f7",
        "outputId": "9c6d633b-37ff-4d0e-f2b4-2ffd7517d6ef"
      },
      "outputs": [
        {
          "output_type": "stream",
          "name": "stdout",
          "text": [
            "2\n"
          ]
        }
      ],
      "source": [
        "#number of categorical columns\n",
        "print(len(data.select_dtypes(include = 'object').columns.tolist()))"
      ]
    },
    {
      "cell_type": "code",
      "execution_count": null,
      "metadata": {
        "id": "8aH9EACm2Cjt"
      },
      "outputs": [],
      "source": [
        "data.drop([\"Cleaned_Feedback\",\"Teacher's Feedback\"],axis=1,inplace=True)"
      ]
    },
    {
      "cell_type": "markdown",
      "metadata": {
        "id": "zy5W_v0W21lE"
      },
      "source": [
        "# statistical view of dataset\n",
        "\n",
        "\n"
      ]
    },
    {
      "cell_type": "code",
      "execution_count": null,
      "metadata": {
        "colab": {
          "base_uri": "https://localhost:8080/",
          "height": 411
        },
        "id": "6qGc02RE7K2-",
        "outputId": "4ac8897e-c68c-49b5-cc5f-7be29bad2739"
      },
      "outputs": [
        {
          "output_type": "execute_result",
          "data": {
            "text/plain": [
              "       SEM 1 SGPA    SEM 1 KT  SEM 2 SGPA    SEM 2 KT  SEM 3 SGPA    SEM 3 KT  \\\n",
              "count  260.000000  262.000000  262.000000  262.000000  261.000000  260.000000   \n",
              "mean     6.017885    0.770992    6.025954    0.839695    5.890728    0.811538   \n",
              "std      1.799840    0.926948    1.829858    0.916572    1.708067    0.912727   \n",
              "min      3.200000    0.000000    3.200000    0.000000    3.200000    0.000000   \n",
              "25%      4.230000    0.000000    4.202500    0.000000    4.300000    0.000000   \n",
              "50%      6.000000    0.000000    6.085000    1.000000    5.900000    1.000000   \n",
              "75%      7.560000    1.000000    7.485000    2.000000    7.220000    1.250000   \n",
              "max      9.580000    4.000000   10.000000    3.000000   10.000000    4.000000   \n",
              "\n",
              "       SEM 4 SGPA    SEM 4 KT  SEM 5 SGPA    SEM 5 KT  ...  Internet_Speed  \\\n",
              "count  262.000000  261.000000  262.000000  262.000000  ...           262.0   \n",
              "mean     5.961412    0.521073    6.106794    0.003817  ...             0.0   \n",
              "std      1.786112    0.834667    1.752587    0.061780  ...             0.0   \n",
              "min      3.100000    0.000000    3.000000    0.000000  ...             0.0   \n",
              "25%      4.202500    0.000000    4.457500    0.000000  ...             0.0   \n",
              "50%      6.085000    0.000000    6.150000    0.000000  ...             0.0   \n",
              "75%      7.300000    1.000000    7.500000    0.000000  ...             0.0   \n",
              "max      9.800000    3.000000    9.900000    1.000000  ...             0.0   \n",
              "\n",
              "       Mode_Of_Transportation  2_hrs_lect  Submissions  5_hrs_lect  \\\n",
              "count              262.000000  262.000000   262.000000  262.000000   \n",
              "mean                 1.660305    0.290076     0.751908    0.339695   \n",
              "std                  0.863849    0.454666     0.432732    0.474512   \n",
              "min                  1.000000    0.000000     0.000000    0.000000   \n",
              "25%                  1.000000    0.000000     1.000000    0.000000   \n",
              "50%                  1.000000    0.000000     1.000000    0.000000   \n",
              "75%                  3.000000    1.000000     1.000000    1.000000   \n",
              "max                  3.000000    1.000000     1.000000    1.000000   \n",
              "\n",
              "       5_hrs_pracs  Coaching_classes       Label  Scocial_Skills  \\\n",
              "count   262.000000        262.000000  262.000000      262.000000   \n",
              "mean      0.412214          0.114504    0.618321        0.148855   \n",
              "std       0.493175          0.319032    0.486728        0.356627   \n",
              "min       0.000000          0.000000    0.000000        0.000000   \n",
              "25%       0.000000          0.000000    0.000000        0.000000   \n",
              "50%       0.000000          0.000000    1.000000        0.000000   \n",
              "75%       1.000000          0.000000    1.000000        0.000000   \n",
              "max       1.000000          1.000000    1.000000        1.000000   \n",
              "\n",
              "       Average pointer  \n",
              "count       259.000000  \n",
              "mean          6.014662  \n",
              "std           1.693180  \n",
              "min           3.631250  \n",
              "25%           4.208750  \n",
              "50%           6.183750  \n",
              "75%           7.511250  \n",
              "max           9.732500  \n",
              "\n",
              "[8 rows x 30 columns]"
            ],
            "text/html": [
              "\n",
              "  <div id=\"df-fc4abb63-5da3-410b-82ae-8ec8e7fcdae5\">\n",
              "    <div class=\"colab-df-container\">\n",
              "      <div>\n",
              "<style scoped>\n",
              "    .dataframe tbody tr th:only-of-type {\n",
              "        vertical-align: middle;\n",
              "    }\n",
              "\n",
              "    .dataframe tbody tr th {\n",
              "        vertical-align: top;\n",
              "    }\n",
              "\n",
              "    .dataframe thead th {\n",
              "        text-align: right;\n",
              "    }\n",
              "</style>\n",
              "<table border=\"1\" class=\"dataframe\">\n",
              "  <thead>\n",
              "    <tr style=\"text-align: right;\">\n",
              "      <th></th>\n",
              "      <th>SEM 1 SGPA</th>\n",
              "      <th>SEM 1 KT</th>\n",
              "      <th>SEM 2 SGPA</th>\n",
              "      <th>SEM 2 KT</th>\n",
              "      <th>SEM 3 SGPA</th>\n",
              "      <th>SEM 3 KT</th>\n",
              "      <th>SEM 4 SGPA</th>\n",
              "      <th>SEM 4 KT</th>\n",
              "      <th>SEM 5 SGPA</th>\n",
              "      <th>SEM 5 KT</th>\n",
              "      <th>...</th>\n",
              "      <th>Internet_Speed</th>\n",
              "      <th>Mode_Of_Transportation</th>\n",
              "      <th>2_hrs_lect</th>\n",
              "      <th>Submissions</th>\n",
              "      <th>5_hrs_lect</th>\n",
              "      <th>5_hrs_pracs</th>\n",
              "      <th>Coaching_classes</th>\n",
              "      <th>Label</th>\n",
              "      <th>Scocial_Skills</th>\n",
              "      <th>Average pointer</th>\n",
              "    </tr>\n",
              "  </thead>\n",
              "  <tbody>\n",
              "    <tr>\n",
              "      <th>count</th>\n",
              "      <td>260.000000</td>\n",
              "      <td>262.000000</td>\n",
              "      <td>262.000000</td>\n",
              "      <td>262.000000</td>\n",
              "      <td>261.000000</td>\n",
              "      <td>260.000000</td>\n",
              "      <td>262.000000</td>\n",
              "      <td>261.000000</td>\n",
              "      <td>262.000000</td>\n",
              "      <td>262.000000</td>\n",
              "      <td>...</td>\n",
              "      <td>262.0</td>\n",
              "      <td>262.000000</td>\n",
              "      <td>262.000000</td>\n",
              "      <td>262.000000</td>\n",
              "      <td>262.000000</td>\n",
              "      <td>262.000000</td>\n",
              "      <td>262.000000</td>\n",
              "      <td>262.000000</td>\n",
              "      <td>262.000000</td>\n",
              "      <td>259.000000</td>\n",
              "    </tr>\n",
              "    <tr>\n",
              "      <th>mean</th>\n",
              "      <td>6.017885</td>\n",
              "      <td>0.770992</td>\n",
              "      <td>6.025954</td>\n",
              "      <td>0.839695</td>\n",
              "      <td>5.890728</td>\n",
              "      <td>0.811538</td>\n",
              "      <td>5.961412</td>\n",
              "      <td>0.521073</td>\n",
              "      <td>6.106794</td>\n",
              "      <td>0.003817</td>\n",
              "      <td>...</td>\n",
              "      <td>0.0</td>\n",
              "      <td>1.660305</td>\n",
              "      <td>0.290076</td>\n",
              "      <td>0.751908</td>\n",
              "      <td>0.339695</td>\n",
              "      <td>0.412214</td>\n",
              "      <td>0.114504</td>\n",
              "      <td>0.618321</td>\n",
              "      <td>0.148855</td>\n",
              "      <td>6.014662</td>\n",
              "    </tr>\n",
              "    <tr>\n",
              "      <th>std</th>\n",
              "      <td>1.799840</td>\n",
              "      <td>0.926948</td>\n",
              "      <td>1.829858</td>\n",
              "      <td>0.916572</td>\n",
              "      <td>1.708067</td>\n",
              "      <td>0.912727</td>\n",
              "      <td>1.786112</td>\n",
              "      <td>0.834667</td>\n",
              "      <td>1.752587</td>\n",
              "      <td>0.061780</td>\n",
              "      <td>...</td>\n",
              "      <td>0.0</td>\n",
              "      <td>0.863849</td>\n",
              "      <td>0.454666</td>\n",
              "      <td>0.432732</td>\n",
              "      <td>0.474512</td>\n",
              "      <td>0.493175</td>\n",
              "      <td>0.319032</td>\n",
              "      <td>0.486728</td>\n",
              "      <td>0.356627</td>\n",
              "      <td>1.693180</td>\n",
              "    </tr>\n",
              "    <tr>\n",
              "      <th>min</th>\n",
              "      <td>3.200000</td>\n",
              "      <td>0.000000</td>\n",
              "      <td>3.200000</td>\n",
              "      <td>0.000000</td>\n",
              "      <td>3.200000</td>\n",
              "      <td>0.000000</td>\n",
              "      <td>3.100000</td>\n",
              "      <td>0.000000</td>\n",
              "      <td>3.000000</td>\n",
              "      <td>0.000000</td>\n",
              "      <td>...</td>\n",
              "      <td>0.0</td>\n",
              "      <td>1.000000</td>\n",
              "      <td>0.000000</td>\n",
              "      <td>0.000000</td>\n",
              "      <td>0.000000</td>\n",
              "      <td>0.000000</td>\n",
              "      <td>0.000000</td>\n",
              "      <td>0.000000</td>\n",
              "      <td>0.000000</td>\n",
              "      <td>3.631250</td>\n",
              "    </tr>\n",
              "    <tr>\n",
              "      <th>25%</th>\n",
              "      <td>4.230000</td>\n",
              "      <td>0.000000</td>\n",
              "      <td>4.202500</td>\n",
              "      <td>0.000000</td>\n",
              "      <td>4.300000</td>\n",
              "      <td>0.000000</td>\n",
              "      <td>4.202500</td>\n",
              "      <td>0.000000</td>\n",
              "      <td>4.457500</td>\n",
              "      <td>0.000000</td>\n",
              "      <td>...</td>\n",
              "      <td>0.0</td>\n",
              "      <td>1.000000</td>\n",
              "      <td>0.000000</td>\n",
              "      <td>1.000000</td>\n",
              "      <td>0.000000</td>\n",
              "      <td>0.000000</td>\n",
              "      <td>0.000000</td>\n",
              "      <td>0.000000</td>\n",
              "      <td>0.000000</td>\n",
              "      <td>4.208750</td>\n",
              "    </tr>\n",
              "    <tr>\n",
              "      <th>50%</th>\n",
              "      <td>6.000000</td>\n",
              "      <td>0.000000</td>\n",
              "      <td>6.085000</td>\n",
              "      <td>1.000000</td>\n",
              "      <td>5.900000</td>\n",
              "      <td>1.000000</td>\n",
              "      <td>6.085000</td>\n",
              "      <td>0.000000</td>\n",
              "      <td>6.150000</td>\n",
              "      <td>0.000000</td>\n",
              "      <td>...</td>\n",
              "      <td>0.0</td>\n",
              "      <td>1.000000</td>\n",
              "      <td>0.000000</td>\n",
              "      <td>1.000000</td>\n",
              "      <td>0.000000</td>\n",
              "      <td>0.000000</td>\n",
              "      <td>0.000000</td>\n",
              "      <td>1.000000</td>\n",
              "      <td>0.000000</td>\n",
              "      <td>6.183750</td>\n",
              "    </tr>\n",
              "    <tr>\n",
              "      <th>75%</th>\n",
              "      <td>7.560000</td>\n",
              "      <td>1.000000</td>\n",
              "      <td>7.485000</td>\n",
              "      <td>2.000000</td>\n",
              "      <td>7.220000</td>\n",
              "      <td>1.250000</td>\n",
              "      <td>7.300000</td>\n",
              "      <td>1.000000</td>\n",
              "      <td>7.500000</td>\n",
              "      <td>0.000000</td>\n",
              "      <td>...</td>\n",
              "      <td>0.0</td>\n",
              "      <td>3.000000</td>\n",
              "      <td>1.000000</td>\n",
              "      <td>1.000000</td>\n",
              "      <td>1.000000</td>\n",
              "      <td>1.000000</td>\n",
              "      <td>0.000000</td>\n",
              "      <td>1.000000</td>\n",
              "      <td>0.000000</td>\n",
              "      <td>7.511250</td>\n",
              "    </tr>\n",
              "    <tr>\n",
              "      <th>max</th>\n",
              "      <td>9.580000</td>\n",
              "      <td>4.000000</td>\n",
              "      <td>10.000000</td>\n",
              "      <td>3.000000</td>\n",
              "      <td>10.000000</td>\n",
              "      <td>4.000000</td>\n",
              "      <td>9.800000</td>\n",
              "      <td>3.000000</td>\n",
              "      <td>9.900000</td>\n",
              "      <td>1.000000</td>\n",
              "      <td>...</td>\n",
              "      <td>0.0</td>\n",
              "      <td>3.000000</td>\n",
              "      <td>1.000000</td>\n",
              "      <td>1.000000</td>\n",
              "      <td>1.000000</td>\n",
              "      <td>1.000000</td>\n",
              "      <td>1.000000</td>\n",
              "      <td>1.000000</td>\n",
              "      <td>1.000000</td>\n",
              "      <td>9.732500</td>\n",
              "    </tr>\n",
              "  </tbody>\n",
              "</table>\n",
              "<p>8 rows × 30 columns</p>\n",
              "</div>\n",
              "      <button class=\"colab-df-convert\" onclick=\"convertToInteractive('df-fc4abb63-5da3-410b-82ae-8ec8e7fcdae5')\"\n",
              "              title=\"Convert this dataframe to an interactive table.\"\n",
              "              style=\"display:none;\">\n",
              "        \n",
              "  <svg xmlns=\"http://www.w3.org/2000/svg\" height=\"24px\"viewBox=\"0 0 24 24\"\n",
              "       width=\"24px\">\n",
              "    <path d=\"M0 0h24v24H0V0z\" fill=\"none\"/>\n",
              "    <path d=\"M18.56 5.44l.94 2.06.94-2.06 2.06-.94-2.06-.94-.94-2.06-.94 2.06-2.06.94zm-11 1L8.5 8.5l.94-2.06 2.06-.94-2.06-.94L8.5 2.5l-.94 2.06-2.06.94zm10 10l.94 2.06.94-2.06 2.06-.94-2.06-.94-.94-2.06-.94 2.06-2.06.94z\"/><path d=\"M17.41 7.96l-1.37-1.37c-.4-.4-.92-.59-1.43-.59-.52 0-1.04.2-1.43.59L10.3 9.45l-7.72 7.72c-.78.78-.78 2.05 0 2.83L4 21.41c.39.39.9.59 1.41.59.51 0 1.02-.2 1.41-.59l7.78-7.78 2.81-2.81c.8-.78.8-2.07 0-2.86zM5.41 20L4 18.59l7.72-7.72 1.47 1.35L5.41 20z\"/>\n",
              "  </svg>\n",
              "      </button>\n",
              "      \n",
              "  <style>\n",
              "    .colab-df-container {\n",
              "      display:flex;\n",
              "      flex-wrap:wrap;\n",
              "      gap: 12px;\n",
              "    }\n",
              "\n",
              "    .colab-df-convert {\n",
              "      background-color: #E8F0FE;\n",
              "      border: none;\n",
              "      border-radius: 50%;\n",
              "      cursor: pointer;\n",
              "      display: none;\n",
              "      fill: #1967D2;\n",
              "      height: 32px;\n",
              "      padding: 0 0 0 0;\n",
              "      width: 32px;\n",
              "    }\n",
              "\n",
              "    .colab-df-convert:hover {\n",
              "      background-color: #E2EBFA;\n",
              "      box-shadow: 0px 1px 2px rgba(60, 64, 67, 0.3), 0px 1px 3px 1px rgba(60, 64, 67, 0.15);\n",
              "      fill: #174EA6;\n",
              "    }\n",
              "\n",
              "    [theme=dark] .colab-df-convert {\n",
              "      background-color: #3B4455;\n",
              "      fill: #D2E3FC;\n",
              "    }\n",
              "\n",
              "    [theme=dark] .colab-df-convert:hover {\n",
              "      background-color: #434B5C;\n",
              "      box-shadow: 0px 1px 3px 1px rgba(0, 0, 0, 0.15);\n",
              "      filter: drop-shadow(0px 1px 2px rgba(0, 0, 0, 0.3));\n",
              "      fill: #FFFFFF;\n",
              "    }\n",
              "  </style>\n",
              "\n",
              "      <script>\n",
              "        const buttonEl =\n",
              "          document.querySelector('#df-fc4abb63-5da3-410b-82ae-8ec8e7fcdae5 button.colab-df-convert');\n",
              "        buttonEl.style.display =\n",
              "          google.colab.kernel.accessAllowed ? 'block' : 'none';\n",
              "\n",
              "        async function convertToInteractive(key) {\n",
              "          const element = document.querySelector('#df-fc4abb63-5da3-410b-82ae-8ec8e7fcdae5');\n",
              "          const dataTable =\n",
              "            await google.colab.kernel.invokeFunction('convertToInteractive',\n",
              "                                                     [key], {});\n",
              "          if (!dataTable) return;\n",
              "\n",
              "          const docLinkHtml = 'Like what you see? Visit the ' +\n",
              "            '<a target=\"_blank\" href=https://colab.research.google.com/notebooks/data_table.ipynb>data table notebook</a>'\n",
              "            + ' to learn more about interactive tables.';\n",
              "          element.innerHTML = '';\n",
              "          dataTable['output_type'] = 'display_data';\n",
              "          await google.colab.output.renderOutput(dataTable, element);\n",
              "          const docLink = document.createElement('div');\n",
              "          docLink.innerHTML = docLinkHtml;\n",
              "          element.appendChild(docLink);\n",
              "        }\n",
              "      </script>\n",
              "    </div>\n",
              "  </div>\n",
              "  "
            ]
          },
          "metadata": {},
          "execution_count": 213
        }
      ],
      "source": [
        "data.describe()"
      ]
    },
    {
      "cell_type": "markdown",
      "metadata": {
        "id": "71ZL8Z55282o"
      },
      "source": [
        "# Overall view of dataset"
      ]
    },
    {
      "cell_type": "code",
      "execution_count": null,
      "metadata": {
        "colab": {
          "base_uri": "https://localhost:8080/"
        },
        "id": "EtzvM0XA2utB",
        "outputId": "b72cb24f-027f-4c27-9eaf-652376c28387"
      },
      "outputs": [
        {
          "output_type": "stream",
          "name": "stdout",
          "text": [
            "<class 'pandas.core.frame.DataFrame'>\n",
            "RangeIndex: 262 entries, 0 to 261\n",
            "Data columns (total 30 columns):\n",
            " #   Column                  Non-Null Count  Dtype  \n",
            "---  ------                  --------------  -----  \n",
            " 0   SEM 1 SGPA              260 non-null    float64\n",
            " 1   SEM 1 KT                262 non-null    int64  \n",
            " 2   SEM 2 SGPA              262 non-null    float64\n",
            " 3   SEM 2 KT                262 non-null    int64  \n",
            " 4   SEM 3 SGPA              261 non-null    float64\n",
            " 5   SEM 3 KT                260 non-null    float64\n",
            " 6   SEM 4 SGPA              262 non-null    float64\n",
            " 7   SEM 4 KT                261 non-null    float64\n",
            " 8   SEM 5 SGPA              262 non-null    float64\n",
            " 9   SEM 5 KT                262 non-null    int64  \n",
            " 10  SEM 6 SGPA              262 non-null    float64\n",
            " 11  SEM 6 KT                255 non-null    float64\n",
            " 12  SEM 7 SGPA              262 non-null    float64\n",
            " 13  SEM 7 KT                262 non-null    int64  \n",
            " 14  SEM 8 SGPA              262 non-null    float64\n",
            " 15  Hours_On_Assignment     262 non-null    int64  \n",
            " 16  Hours_On_Studies        262 non-null    int64  \n",
            " 17  Travel_Time             262 non-null    int64  \n",
            " 18  Attendance              262 non-null    int64  \n",
            " 19  Internet_Availability   262 non-null    int64  \n",
            " 20  Internet_Speed          262 non-null    int64  \n",
            " 21  Mode_Of_Transportation  262 non-null    int64  \n",
            " 22  2_hrs_lect              262 non-null    int64  \n",
            " 23  Submissions             262 non-null    int64  \n",
            " 24  5_hrs_lect              262 non-null    int64  \n",
            " 25  5_hrs_pracs             262 non-null    int64  \n",
            " 26  Coaching_classes        262 non-null    int64  \n",
            " 27  Label                   262 non-null    int64  \n",
            " 28  Scocial_Skills          262 non-null    int64  \n",
            " 29  Average pointer         259 non-null    float64\n",
            "dtypes: float64(12), int64(18)\n",
            "memory usage: 61.5 KB\n"
          ]
        }
      ],
      "source": [
        "data.info()"
      ]
    },
    {
      "cell_type": "markdown",
      "metadata": {
        "id": "ehXq5g0AM9CJ"
      },
      "source": [
        "## Exploratory data analysis(EDA)"
      ]
    },
    {
      "cell_type": "markdown",
      "metadata": {
        "id": "wcrGAx4yO-6p"
      },
      "source": [
        "Target(dependent variable)"
      ]
    },
    {
      "cell_type": "code",
      "execution_count": null,
      "metadata": {
        "colab": {
          "base_uri": "https://localhost:8080/",
          "height": 279
        },
        "id": "9_E6lcYJPD35",
        "outputId": "f21ef05a-733b-473f-aa47-5eb25edc3ac3"
      },
      "outputs": [
        {
          "output_type": "display_data",
          "data": {
            "text/plain": [
              "<Figure size 432x288 with 1 Axes>"
            ],
            "image/png": "[encoded data removed]"
          },
          "metadata": {}
        }
      ],
      "source": [
        "sns.set_style(\"dark\")\n",
        "sns.countplot(data['Label'])\n",
        "plt.show()"
      ]
    },
    {
      "cell_type": "markdown",
      "metadata": {
        "id": "n-161eP3Q7Ih"
      },
      "source": [
        "▶ Dataset contains balanced classes of 0 and 1\n",
        "\n",
        "\n",
        "*  Here 1 represents desciplined student\n",
        "*  0 represents the dropout student\n",
        "\n",
        "\n",
        "\n"
      ]
    },
    {
      "cell_type": "markdown",
      "metadata": {
        "id": "DGBMmLOjNc4R"
      },
      "source": [
        "Semister Grade Point Average(SGPA) and KT\n",
        "\n",
        "\n"
      ]
    },
    {
      "cell_type": "code",
      "execution_count": null,
      "metadata": {
        "id": "Wj8Yzv5hNbsz"
      },
      "outputs": [],
      "source": [
        "sgpa_data = data.iloc[:,:16:2]\n"
      ]
    },
    {
      "cell_type": "code",
      "execution_count": null,
      "metadata": {
        "id": "1zNEe5sFNCFb"
      },
      "outputs": [],
      "source": [
        "sgpa_cols = sgpa_data.columns"
      ]
    },
    {
      "cell_type": "code",
      "execution_count": null,
      "metadata": {
        "colab": {
          "base_uri": "https://localhost:8080/",
          "height": 1000
        },
        "id": "3hbVY01GULHU",
        "outputId": "1d8913fb-6303-4a64-890a-e82146705fdf"
      },
      "outputs": [
        {
          "output_type": "stream",
          "name": "stderr",
          "text": [
            "WARNING:matplotlib.legend:No handles with labels found to put in legend.\n"
          ]
        },
        {
          "output_type": "display_data",
          "data": {
            "text/plain": [
              "<Figure size 720x360 with 1 Axes>"
            ],
            "image/png": "[encoded data removed]"
          },
          "metadata": {}
        },
        {
          "output_type": "stream",
          "name": "stderr",
          "text": [
            "WARNING:matplotlib.legend:No handles with labels found to put in legend.\n"
          ]
        },
        {
          "output_type": "display_data",
          "data": {
            "text/plain": [
              "<Figure size 720x360 with 1 Axes>"
            ],
            "image/png": "[encoded data removed]"
          },
          "metadata": {}
        },
        {
          "output_type": "stream",
          "name": "stderr",
          "text": [
            "WARNING:matplotlib.legend:No handles with labels found to put in legend.\n"
          ]
        },
        {
          "output_type": "display_data",
          "data": {
            "text/plain": [
              "<Figure size 720x360 with 1 Axes>"
            ],
            "image/png": "[encoded data removed]"
          },
          "metadata": {}
        },
        {
          "output_type": "stream",
          "name": "stderr",
          "text": [
            "WARNING:matplotlib.legend:No handles with labels found to put in legend.\n"
          ]
        },
        {
          "output_type": "display_data",
          "data": {
            "text/plain": [
              "<Figure size 720x360 with 1 Axes>"
            ],
            "image/png": "[encoded data removed]"
          },
          "metadata": {}
        },
        {
          "output_type": "stream",
          "name": "stderr",
          "text": [
            "WARNING:matplotlib.legend:No handles with labels found to put in legend.\n"
          ]
        },
        {
          "output_type": "display_data",
          "data": {
            "text/plain": [
              "<Figure size 720x360 with 1 Axes>"
            ],
            "image/png": "[encoded data removed]"
          },
          "metadata": {}
        },
        {
          "output_type": "stream",
          "name": "stderr",
          "text": [
            "WARNING:matplotlib.legend:No handles with labels found to put in legend.\n"
          ]
        },
        {
          "output_type": "display_data",
          "data": {
            "text/plain": [
              "<Figure size 720x360 with 1 Axes>"
            ],
            "image/png": "[encoded data removed]"
          },
          "metadata": {}
        },
        {
          "output_type": "stream",
          "name": "stderr",
          "text": [
            "WARNING:matplotlib.legend:No handles with labels found to put in legend.\n"
          ]
        },
        {
          "output_type": "display_data",
          "data": {
            "text/plain": [
              "<Figure size 720x360 with 1 Axes>"
            ],
            "image/png": "[encoded data removed]"
          },
          "metadata": {}
        },
        {
          "output_type": "stream",
          "name": "stderr",
          "text": [
            "WARNING:matplotlib.legend:No handles with labels found to put in legend.\n"
          ]
        },
        {
          "output_type": "display_data",
          "data": {
            "text/plain": [
              "<Figure size 720x360 with 1 Axes>"
            ],
            "image/png": "[encoded data removed]"
          },
          "metadata": {}
        }
      ],
      "source": [
        "\n",
        "for col in sgpa_cols:\n",
        "#     fig, (ax1, ax2) = plt.subplots(1, 2, figsize=(20, 5))\n",
        "    fig = plt.figure(figsize=(10, 5))\n",
        "    \n",
        "    sns.distplot(sgpa_data[col])\n",
        "    plt.legend()\n",
        "    plt.show()\n"
      ]
    },
    {
      "cell_type": "code",
      "execution_count": null,
      "metadata": {
        "colab": {
          "base_uri": "https://localhost:8080/",
          "height": 1000
        },
        "id": "era1dEk3YgXo",
        "outputId": "370fd3c4-c865-40b9-8ebf-68b91022005b"
      },
      "outputs": [
        {
          "output_type": "stream",
          "name": "stderr",
          "text": [
            "WARNING:matplotlib.legend:No handles with labels found to put in legend.\n"
          ]
        },
        {
          "output_type": "display_data",
          "data": {
            "text/plain": [
              "<Figure size 720x360 with 1 Axes>"
            ],
            "image/png": "[encoded data removed]"
          },
          "metadata": {}
        },
        {
          "output_type": "stream",
          "name": "stderr",
          "text": [
            "WARNING:matplotlib.legend:No handles with labels found to put in legend.\n"
          ]
        },
        {
          "output_type": "display_data",
          "data": {
            "text/plain": [
              "<Figure size 720x360 with 1 Axes>"
            ],
            "image/png": "[encoded data removed]"
          },
          "metadata": {}
        },
        {
          "output_type": "stream",
          "name": "stderr",
          "text": [
            "WARNING:matplotlib.legend:No handles with labels found to put in legend.\n"
          ]
        },
        {
          "output_type": "display_data",
          "data": {
            "text/plain": [
              "<Figure size 720x360 with 1 Axes>"
            ],
            "image/png": "[encoded data removed]"
          },
          "metadata": {}
        },
        {
          "output_type": "stream",
          "name": "stderr",
          "text": [
            "WARNING:matplotlib.legend:No handles with labels found to put in legend.\n"
          ]
        },
        {
          "output_type": "display_data",
          "data": {
            "text/plain": [
              "<Figure size 720x360 with 1 Axes>"
            ],
            "image/png": "[encoded data removed]"
          },
          "metadata": {}
        },
        {
          "output_type": "stream",
          "name": "stderr",
          "text": [
            "WARNING:matplotlib.legend:No handles with labels found to put in legend.\n"
          ]
        },
        {
          "output_type": "display_data",
          "data": {
            "text/plain": [
              "<Figure size 720x360 with 1 Axes>"
            ],
            "image/png": "[encoded data removed]"
          },
          "metadata": {}
        },
        {
          "output_type": "stream",
          "name": "stderr",
          "text": [
            "WARNING:matplotlib.legend:No handles with labels found to put in legend.\n"
          ]
        },
        {
          "output_type": "display_data",
          "data": {
            "text/plain": [
              "<Figure size 720x360 with 1 Axes>"
            ],
            "image/png": "[encoded data removed]"
          },
          "metadata": {}
        },
        {
          "output_type": "stream",
          "name": "stderr",
          "text": [
            "WARNING:matplotlib.legend:No handles with labels found to put in legend.\n"
          ]
        },
        {
          "output_type": "display_data",
          "data": {
            "text/plain": [
              "<Figure size 720x360 with 1 Axes>"
            ],
            "image/png": "[encoded data removed]"
          },
          "metadata": {}
        }
      ],
      "source": [
        "\n",
        "\n",
        "kt_data = data.iloc[:,1:15:2]\n",
        "kt_cols = kt_data.columns\n",
        "\n",
        "\n",
        "for col in kt_cols:\n",
        "    fig = plt.figure(figsize=(10, 5))\n",
        "    \n",
        "    sns.countplot(kt_data[col])\n",
        "    plt.legend()\n",
        "    plt.show()\n",
        "   "
      ]
    },
    {
      "cell_type": "markdown",
      "metadata": {
        "id": "6QJPRtf9eZio"
      },
      "source": [
        "## Study time analysis\n",
        "\n",
        "*   Hours_On_Assignment\n",
        "*   Hours_On_Studies\n",
        "\n"
      ]
    },
    {
      "cell_type": "code",
      "source": [
        "data['Hours_On_Assignment'].value_counts()"
      ],
      "metadata": {
        "colab": {
          "base_uri": "https://localhost:8080/"
        },
        "id": "79w_BBM4_u0s",
        "outputId": "d05addc3-93e7-4412-c10a-5d805d063cdf"
      },
      "execution_count": null,
      "outputs": [
        {
          "output_type": "execute_result",
          "data": {
            "text/plain": [
              "0    235\n",
              "1     27\n",
              "Name: Hours_On_Assignment, dtype: int64"
            ]
          },
          "metadata": {},
          "execution_count": 220
        }
      ]
    },
    {
      "cell_type": "code",
      "execution_count": null,
      "metadata": {
        "id": "ZKtQa93gew_Z",
        "colab": {
          "base_uri": "https://localhost:8080/",
          "height": 279
        },
        "outputId": "34e9bccb-cffd-40c5-cc09-ab27a17093da"
      },
      "outputs": [
        {
          "output_type": "display_data",
          "data": {
            "text/plain": [
              "<Figure size 432x288 with 1 Axes>"
            ],
            "image/png": "[encoded data removed]"
          },
          "metadata": {}
        }
      ],
      "source": [
        "sns.boxplot(data = data,x='Label',y='Hours_On_Assignment')\n",
        "plt.show()"
      ]
    },
    {
      "cell_type": "code",
      "execution_count": null,
      "metadata": {
        "colab": {
          "base_uri": "https://localhost:8080/",
          "height": 295
        },
        "id": "j9sX1UpnfjGj",
        "outputId": "89348e29-d0a0-4ef9-9605-751923e230f2"
      },
      "outputs": [
        {
          "output_type": "display_data",
          "data": {
            "text/plain": [
              "<Figure size 432x288 with 1 Axes>"
            ],
            "image/png": "[encoded data removed]"
          },
          "metadata": {}
        }
      ],
      "source": [
        "\n",
        "sns.boxplot(y='Hours_On_Studies', x=\"Label\", data=data)\n",
        "plt.title(\"Study hours\")\n",
        "plt.show()"
      ]
    },
    {
      "cell_type": "markdown",
      "metadata": {
        "id": "O_VxK_RJoKSb"
      },
      "source": [
        "## Internet availability and speed"
      ]
    },
    {
      "cell_type": "code",
      "execution_count": null,
      "metadata": {
        "colab": {
          "base_uri": "https://localhost:8080/",
          "height": 281
        },
        "id": "MuyoKG5RoQ-y",
        "outputId": "76ccfdb1-4015-41fb-b65d-ce3c7ca637d3"
      },
      "outputs": [
        {
          "output_type": "display_data",
          "data": {
            "text/plain": [
              "<Figure size 432x288 with 1 Axes>"
            ],
            "image/png": "[encoded data removed]"
          },
          "metadata": {}
        }
      ],
      "source": [
        "sns.countplot(hue='Internet_Availability',x= 'Label',data = data)\n",
        "plt.show()"
      ]
    },
    {
      "cell_type": "code",
      "source": [
        "sns.boxplot(data=data,x='Label',y='Travel_Time')\n",
        "plt.show()"
      ],
      "metadata": {
        "colab": {
          "base_uri": "https://localhost:8080/",
          "height": 279
        },
        "id": "CnfHS_nJDtfy",
        "outputId": "6929cf00-eb6f-4a5e-c38e-b8fdb139de67"
      },
      "execution_count": null,
      "outputs": [
        {
          "output_type": "display_data",
          "data": {
            "text/plain": [
              "<Figure size 432x288 with 1 Axes>"
            ],
            "image/png": "[encoded data removed]"
          },
          "metadata": {}
        }
      ]
    },
    {
      "cell_type": "markdown",
      "source": [
        "Removing constant features\n",
        "\n",
        "\n",
        "\n",
        "*   constant features are the values same throuhout the dataset i.e. constant.These constant features do not add any value to the machine learning models.\n",
        "*  Removing these values is the first step in feature selection\n",
        "*   From the above data we can see that we have constant features in the dataset\n",
        "*   These constant features can be removed by sklearn variance threshold\n",
        "*   \n"
      ],
      "metadata": {
        "id": "l_xsW-I39cxQ"
      }
    },
    {
      "cell_type": "code",
      "source": [
        "# # seperating features and targets\n",
        "# X = data.drop('Label',axis=1)\n",
        "# y = data['Label']"
      ],
      "metadata": {
        "id": "btUc2-OAVsoD"
      },
      "execution_count": null,
      "outputs": []
    },
    {
      "cell_type": "code",
      "source": [
        "# using sklearn variancethreshold to find constant features\n",
        "\n",
        "from sklearn.feature_selection import VarianceThreshold\n",
        "sel = VarianceThreshold(threshold=0)\n",
        "sel.fit(data)  # fit finds the features with zero variance\n"
      ],
      "metadata": {
        "colab": {
          "base_uri": "https://localhost:8080/"
        },
        "id": "mPEOImR_9-do",
        "outputId": "cccdc995-6273-426e-a03b-246440c1bf1e"
      },
      "execution_count": null,
      "outputs": [
        {
          "output_type": "execute_result",
          "data": {
            "text/plain": [
              "VarianceThreshold(threshold=0)"
            ]
          },
          "metadata": {},
          "execution_count": 226
        }
      ]
    },
    {
      "cell_type": "code",
      "source": [
        "#length of non constant features\n",
        "non_constant = len(data.columns[sel.get_support()])\n",
        "constant_features = len(data.columns) - non_constant\n",
        "print('non-constant features:',non_constant)\n",
        "print('constant features:',constant_features)\n"
      ],
      "metadata": {
        "colab": {
          "base_uri": "https://localhost:8080/"
        },
        "id": "AuVNOM4a_A2S",
        "outputId": "7d05911c-0283-434a-ab1a-4b33783f162b"
      },
      "execution_count": null,
      "outputs": [
        {
          "output_type": "stream",
          "name": "stdout",
          "text": [
            "non-constant features: 28\n",
            "constant features: 2\n"
          ]
        }
      ]
    },
    {
      "cell_type": "code",
      "source": [
        "#constant features\n",
        "\n",
        "constant_cols = [x for x in data.columns if x not in data.columns[sel.get_support()]]\n",
        "constant_cols"
      ],
      "metadata": {
        "colab": {
          "base_uri": "https://localhost:8080/"
        },
        "id": "rvBOgBlMAcwY",
        "outputId": "85c9a89b-76d3-499e-ccc3-38181c1308ca"
      },
      "execution_count": null,
      "outputs": [
        {
          "output_type": "execute_result",
          "data": {
            "text/plain": [
              "['SEM 7 KT', 'Internet_Speed']"
            ]
          },
          "metadata": {},
          "execution_count": 228
        }
      ]
    },
    {
      "cell_type": "code",
      "source": [
        "#new dataframe after removing the constant columns\n",
        "data.drop(constant_cols,axis=1,inplace=True)\n",
        "\n"
      ],
      "metadata": {
        "id": "kKF-I46CCXEw"
      },
      "execution_count": null,
      "outputs": []
    },
    {
      "cell_type": "code",
      "source": [
        "print('length of columns after removing constant features:',len(data.columns))"
      ],
      "metadata": {
        "colab": {
          "base_uri": "https://localhost:8080/"
        },
        "id": "YAGg-3c0CuGg",
        "outputId": "e0627f63-dfd3-407e-8924-0e95c9730549"
      },
      "execution_count": null,
      "outputs": [
        {
          "output_type": "stream",
          "name": "stdout",
          "text": [
            "length of columns after removing constant features: 28\n"
          ]
        }
      ]
    },
    {
      "cell_type": "markdown",
      "source": [
        "Removing quasi constants\n",
        "\n",
        "\n",
        "*  Quasi constant features the values present majority of the time in the dataset\n",
        "*  For this we are using same method like removing constants i.e. variance threshold with threshold value 98%\n",
        "* We should be very careful while removing the quasi constant features...it may remove the outliers of the data\n",
        "\n",
        "\n",
        "\n"
      ],
      "metadata": {
        "id": "tyHTheDFBX2A"
      }
    },
    {
      "cell_type": "code",
      "source": [
        "sel = VarianceThreshold(threshold=0.02)  # 0.1 indicates 80% of observations approximately\n",
        "\n",
        "sel.fit(data)"
      ],
      "metadata": {
        "colab": {
          "base_uri": "https://localhost:8080/"
        },
        "id": "qdWLdO71Rsqe",
        "outputId": "db5a5948-4508-46f0-d5e2-256ed043c2f4"
      },
      "execution_count": null,
      "outputs": [
        {
          "output_type": "execute_result",
          "data": {
            "text/plain": [
              "VarianceThreshold(threshold=0.02)"
            ]
          },
          "metadata": {},
          "execution_count": 231
        }
      ]
    },
    {
      "cell_type": "code",
      "source": [
        "# filtering the quasi constant columns\n",
        "quasi_constant_cols = [x for x in data.columns if x not in data.columns[sel.get_support()]]\n",
        "quasi_constant_cols"
      ],
      "metadata": {
        "colab": {
          "base_uri": "https://localhost:8080/"
        },
        "id": "cl1c_IZISHog",
        "outputId": "f377ae76-4015-49ea-9fa2-58a2e5cc554f"
      },
      "execution_count": null,
      "outputs": [
        {
          "output_type": "execute_result",
          "data": {
            "text/plain": [
              "['SEM 5 KT']"
            ]
          },
          "metadata": {},
          "execution_count": 232
        }
      ]
    },
    {
      "cell_type": "code",
      "source": [
        "# new features after removing the quasi constat columns\n",
        "data.drop(quasi_constant_cols,axis=1,inplace=True)\n"
      ],
      "metadata": {
        "id": "7FN4HsWKScd_"
      },
      "execution_count": null,
      "outputs": []
    },
    {
      "cell_type": "code",
      "source": [
        "\n",
        "data.columns"
      ],
      "metadata": {
        "colab": {
          "base_uri": "https://localhost:8080/"
        },
        "id": "cJNo8phqTBWF",
        "outputId": "b1f26575-7661-48d1-e472-0565e2a88c46"
      },
      "execution_count": null,
      "outputs": [
        {
          "output_type": "execute_result",
          "data": {
            "text/plain": [
              "Index(['SEM 1 SGPA', 'SEM 1 KT', 'SEM 2 SGPA', 'SEM 2 KT', 'SEM 3 SGPA',\n",
              "       'SEM 3 KT', 'SEM 4 SGPA', 'SEM 4 KT', 'SEM 5 SGPA', 'SEM 6 SGPA',\n",
              "       'SEM 6 KT', 'SEM 7 SGPA', 'SEM 8 SGPA', 'Hours_On_Assignment',\n",
              "       'Hours_On_Studies', 'Travel_Time', 'Attendance',\n",
              "       'Internet_Availability', 'Mode_Of_Transportation', '2_hrs_lect',\n",
              "       'Submissions', '5_hrs_lect', '5_hrs_pracs', 'Coaching_classes', 'Label',\n",
              "       'Scocial_Skills', 'Average pointer'],\n",
              "      dtype='object')"
            ]
          },
          "metadata": {},
          "execution_count": 234
        }
      ]
    },
    {
      "cell_type": "code",
      "source": [
        "#number of columns after quasi constant removal\n",
        "print('final length of columns after constant removal:',len(data.columns))\n"
      ],
      "metadata": {
        "colab": {
          "base_uri": "https://localhost:8080/"
        },
        "id": "rQbBRMiYR4Fk",
        "outputId": "5cda0059-6db4-40f1-a60d-84f76521524c"
      },
      "execution_count": null,
      "outputs": [
        {
          "output_type": "stream",
          "name": "stdout",
          "text": [
            "final length of columns after constant removal: 27\n"
          ]
        }
      ]
    },
    {
      "cell_type": "code",
      "source": [],
      "metadata": {
        "id": "hwuocWpo15N7"
      },
      "execution_count": null,
      "outputs": []
    },
    {
      "cell_type": "markdown",
      "source": [
        "# Filter methods\n",
        "\n",
        "\n",
        "1. Filter methods generally a part of preprocessing of data(removing constants and removing quasi constants)\n",
        "2. These methods generally do not use algorithms to select the important features instead they use statistical tests\n",
        "3. filter methods usually include:\n",
        "> Correlation matrix.   \n",
        "> ANOVA(Analysis of variance).   \n",
        "> Univariate selection methods. \n",
        "4.The characterstics of filter method are:\n",
        "> They are computationally inexpensive\n",
        "> Well suited for quick removal of irrelavant features\n",
        "> low prediction power\n",
        "\n",
        "\n",
        "\n",
        "\n",
        "\n",
        "\n",
        "\n",
        "\n",
        "\n",
        "\n",
        "\n",
        "\n",
        "\n",
        "\n"
      ],
      "metadata": {
        "id": "yGBYkHkc-aPc"
      }
    },
    {
      "cell_type": "markdown",
      "source": [
        "**1.1 Filter method**"
      ],
      "metadata": {
        "id": "fyKVLMCDAmw3"
      }
    },
    {
      "cell_type": "markdown",
      "metadata": {
        "id": "9_MCBzTFoxOo"
      },
      "source": [
        "1.Correlation matrix\n",
        "\n",
        "*   How close two variables are to have linear relationship\n",
        "*   When two features have high correlation they will have same effect on dependent variable.... hence we can drop one of them\n",
        "\n",
        "\n",
        "\n",
        "\n",
        "\n"
      ]
    },
    {
      "cell_type": "code",
      "execution_count": null,
      "metadata": {
        "colab": {
          "base_uri": "https://localhost:8080/",
          "height": 718
        },
        "id": "QaHpvLgOYf4C",
        "outputId": "465f7f5f-1496-4f49-99e2-32318af33a98"
      },
      "outputs": [
        {
          "output_type": "display_data",
          "data": {
            "text/plain": [
              "<Figure size 1080x720 with 2 Axes>"
            ],
            "image/png": "[encoded data removed]"
          },
          "metadata": {}
        }
      ],
      "source": [
        "plt.figure(figsize=(15,10))\n",
        "corr = data.corr()\n",
        "sns.heatmap(corr,cmap=\"RdBu_r\",annot=False)\n",
        "plt.title('Correlation matrix')\n",
        "plt.show()"
      ]
    },
    {
      "cell_type": "code",
      "execution_count": null,
      "metadata": {
        "id": "VxbFMfc0ZF6d"
      },
      "outputs": [],
      "source": [
        "#selecting the columns with higher correlation\n",
        "col = np.full((corr.shape[0],),True,dtype=bool)\n",
        "\n",
        "for i in range(corr.shape[0]):\n",
        "  for j in range(i+1,corr.shape[0]):\n",
        "    if corr.iloc[i,j] >= 0.8:\n",
        "      if col[j]:\n",
        "        col[j] = False"
      ]
    },
    {
      "cell_type": "code",
      "execution_count": null,
      "metadata": {
        "colab": {
          "base_uri": "https://localhost:8080/"
        },
        "id": "_weAg81-6L6H",
        "outputId": "53e902a5-4022-4d6d-940d-58bd38ccc340"
      },
      "outputs": [
        {
          "output_type": "execute_result",
          "data": {
            "text/plain": [
              "Index(['SEM 1 SGPA', 'SEM 1 KT', 'SEM 2 KT', 'SEM 3 KT', 'SEM 4 KT',\n",
              "       'SEM 6 KT', 'Hours_On_Assignment', 'Hours_On_Studies', 'Travel_Time',\n",
              "       'Attendance', 'Internet_Availability', 'Mode_Of_Transportation',\n",
              "       '2_hrs_lect', 'Submissions', '5_hrs_lect', '5_hrs_pracs',\n",
              "       'Coaching_classes', 'Scocial_Skills'],\n",
              "      dtype='object')"
            ]
          },
          "metadata": {},
          "execution_count": 238
        }
      ],
      "source": [
        "#new columns set\n",
        "selected_col = data.columns[col]\n",
        "selected_col"
      ]
    },
    {
      "cell_type": "code",
      "execution_count": null,
      "metadata": {
        "colab": {
          "base_uri": "https://localhost:8080/"
        },
        "id": "ybahdICYAbgy",
        "outputId": "1c02238c-f60d-423a-81db-9a00027b71b3"
      },
      "outputs": [
        {
          "output_type": "stream",
          "name": "stdout",
          "text": [
            "length of selected columns: 18\n"
          ]
        }
      ],
      "source": [
        "print('length of selected columns:',len(selected_col))"
      ]
    },
    {
      "cell_type": "code",
      "execution_count": null,
      "metadata": {
        "id": "wiYCwl5P6Yzl"
      },
      "outputs": [],
      "source": [
        "#dataframe with new coluns\n",
        "data_corr = data[selected_col]"
      ]
    },
    {
      "cell_type": "code",
      "execution_count": null,
      "metadata": {
        "colab": {
          "base_uri": "https://localhost:8080/"
        },
        "id": "sY7hT1-74FgX",
        "outputId": "deafe1c1-1444-49df-d3ee-d185db867958"
      },
      "outputs": [
        {
          "output_type": "stream",
          "name": "stdout",
          "text": [
            "<class 'pandas.core.frame.DataFrame'>\n",
            "RangeIndex: 262 entries, 0 to 261\n",
            "Data columns (total 18 columns):\n",
            " #   Column                  Non-Null Count  Dtype  \n",
            "---  ------                  --------------  -----  \n",
            " 0   SEM 1 SGPA              260 non-null    float64\n",
            " 1   SEM 1 KT                262 non-null    int64  \n",
            " 2   SEM 2 KT                262 non-null    int64  \n",
            " 3   SEM 3 KT                260 non-null    float64\n",
            " 4   SEM 4 KT                261 non-null    float64\n",
            " 5   SEM 6 KT                255 non-null    float64\n",
            " 6   Hours_On_Assignment     262 non-null    int64  \n",
            " 7   Hours_On_Studies        262 non-null    int64  \n",
            " 8   Travel_Time             262 non-null    int64  \n",
            " 9   Attendance              262 non-null    int64  \n",
            " 10  Internet_Availability   262 non-null    int64  \n",
            " 11  Mode_Of_Transportation  262 non-null    int64  \n",
            " 12  2_hrs_lect              262 non-null    int64  \n",
            " 13  Submissions             262 non-null    int64  \n",
            " 14  5_hrs_lect              262 non-null    int64  \n",
            " 15  5_hrs_pracs             262 non-null    int64  \n",
            " 16  Coaching_classes        262 non-null    int64  \n",
            " 17  Scocial_Skills          262 non-null    int64  \n",
            "dtypes: float64(4), int64(14)\n",
            "memory usage: 37.0 KB\n"
          ]
        }
      ],
      "source": [
        "#data frame overview\n",
        "data_corr.info()"
      ]
    },
    {
      "cell_type": "code",
      "execution_count": null,
      "metadata": {
        "colab": {
          "base_uri": "https://localhost:8080/"
        },
        "id": "dEB4ZLoXotHi",
        "outputId": "b24169ba-f7ed-4b0c-b336-b3c83309011c"
      },
      "outputs": [
        {
          "output_type": "execute_result",
          "data": {
            "text/plain": [
              "SEM 1 SGPA                2\n",
              "SEM 1 KT                  0\n",
              "SEM 2 KT                  0\n",
              "SEM 3 KT                  2\n",
              "SEM 4 KT                  1\n",
              "SEM 6 KT                  7\n",
              "Hours_On_Assignment       0\n",
              "Hours_On_Studies          0\n",
              "Travel_Time               0\n",
              "Attendance                0\n",
              "Internet_Availability     0\n",
              "Mode_Of_Transportation    0\n",
              "2_hrs_lect                0\n",
              "Submissions               0\n",
              "5_hrs_lect                0\n",
              "5_hrs_pracs               0\n",
              "Coaching_classes          0\n",
              "Scocial_Skills            0\n",
              "dtype: int64"
            ]
          },
          "metadata": {},
          "execution_count": 242
        }
      ],
      "source": [
        "# calculating the sum of null values\n",
        "data_corr.isna().sum()"
      ]
    },
    {
      "cell_type": "code",
      "execution_count": null,
      "metadata": {
        "id": "tXgqVIjFqHfI",
        "colab": {
          "base_uri": "https://localhost:8080/"
        },
        "outputId": "65699845-eef9-42c9-d33f-530ea31b5bbb"
      },
      "outputs": [
        {
          "output_type": "execute_result",
          "data": {
            "text/plain": [
              "Index(['SEM 1 SGPA', 'SEM 1 KT', 'SEM 2 KT', 'SEM 3 KT', 'SEM 4 KT',\n",
              "       'SEM 6 KT', 'Hours_On_Assignment', 'Hours_On_Studies', 'Travel_Time',\n",
              "       'Attendance', 'Internet_Availability', 'Mode_Of_Transportation',\n",
              "       '2_hrs_lect', 'Submissions', '5_hrs_lect', '5_hrs_pracs',\n",
              "       'Coaching_classes', 'Scocial_Skills'],\n",
              "      dtype='object')"
            ]
          },
          "metadata": {},
          "execution_count": 243
        }
      ],
      "source": [
        "# filling the null values with forward filling method\n",
        "data_corr = data_corr.fillna(method=\"ffill\")\n",
        "data_corr.columns"
      ]
    },
    {
      "cell_type": "code",
      "source": [
        "X_corr = data_corr\n",
        "y = data['Label']"
      ],
      "metadata": {
        "id": "yLf2dw7UZU_l"
      },
      "execution_count": null,
      "outputs": []
    },
    {
      "cell_type": "code",
      "source": [
        "len(y),len(X_corr)"
      ],
      "metadata": {
        "colab": {
          "base_uri": "https://localhost:8080/"
        },
        "id": "pKRK5-PyaiVn",
        "outputId": "73f9ec48-13d8-4675-d404-881848ced718"
      },
      "execution_count": null,
      "outputs": [
        {
          "output_type": "execute_result",
          "data": {
            "text/plain": [
              "(262, 262)"
            ]
          },
          "metadata": {},
          "execution_count": 245
        }
      ]
    },
    {
      "cell_type": "markdown",
      "source": [
        "Train and test split"
      ],
      "metadata": {
        "id": "qxx3oW7xUpJl"
      }
    },
    {
      "cell_type": "code",
      "execution_count": null,
      "metadata": {
        "id": "dpuKpC03BoVg"
      },
      "outputs": [],
      "source": [
        "# splitting the data into train and test\n",
        "X_train,X_test,y_train,y_test = train_test_split(data_corr.values,y.values,test_size=0.2)"
      ]
    },
    {
      "cell_type": "code",
      "source": [
        "# length of train and test set\n",
        "X_train.shape,X_test.shape"
      ],
      "metadata": {
        "colab": {
          "base_uri": "https://localhost:8080/"
        },
        "id": "E05zzH9C8JGj",
        "outputId": "721d3ef6-36e0-43b1-eace-7de10a657235"
      },
      "execution_count": null,
      "outputs": [
        {
          "output_type": "execute_result",
          "data": {
            "text/plain": [
              "((209, 18), (53, 18))"
            ]
          },
          "metadata": {},
          "execution_count": 247
        }
      ]
    },
    {
      "cell_type": "markdown",
      "metadata": {
        "id": "blnXBMEuCtuo"
      },
      "source": [
        "Naive Bayes classifier"
      ]
    },
    {
      "cell_type": "code",
      "execution_count": null,
      "metadata": {
        "id": "VIrn81dTCR-A"
      },
      "outputs": [],
      "source": [
        "#creating Naive Bayes object\n",
        "naive_bayes = GaussianNB()\n"
      ]
    },
    {
      "cell_type": "code",
      "execution_count": null,
      "metadata": {
        "colab": {
          "base_uri": "https://localhost:8080/"
        },
        "id": "v9m4TkJwp29q",
        "outputId": "dd25ee9f-a7bc-40c8-f047-edcfcb9d05b5"
      },
      "outputs": [
        {
          "output_type": "execute_result",
          "data": {
            "text/plain": [
              "GaussianNB()"
            ]
          },
          "metadata": {},
          "execution_count": 249
        }
      ],
      "source": [
        "#training the model\n",
        "naive_bayes.fit(X_train,y_train)"
      ]
    },
    {
      "cell_type": "code",
      "execution_count": null,
      "metadata": {
        "id": "k8KB-LUqqXzK",
        "colab": {
          "base_uri": "https://localhost:8080/"
        },
        "outputId": "2f25ebc8-cf01-4cf2-bf6f-e30ab80bb1cf"
      },
      "outputs": [
        {
          "output_type": "execute_result",
          "data": {
            "text/plain": [
              "0.9811320754716981"
            ]
          },
          "metadata": {},
          "execution_count": 250
        }
      ],
      "source": [
        "naive_bayes.score(X_test,y_test)"
      ]
    },
    {
      "cell_type": "code",
      "source": [
        "nb_pred = naive_bayes.predict(X_test)"
      ],
      "metadata": {
        "id": "sH_yxAtKJ0j9"
      },
      "execution_count": null,
      "outputs": []
    },
    {
      "cell_type": "markdown",
      "source": [
        "KNN"
      ],
      "metadata": {
        "id": "lhNoUIXsFb5z"
      }
    },
    {
      "cell_type": "code",
      "source": [
        "# creating KNN\n",
        "knn = KNeighborsClassifier(n_neighbors=3)"
      ],
      "metadata": {
        "id": "HmtgbcQhFa5H"
      },
      "execution_count": null,
      "outputs": []
    },
    {
      "cell_type": "code",
      "source": [
        "#training the model\n",
        "knn.fit(X_train,y_train)"
      ],
      "metadata": {
        "colab": {
          "base_uri": "https://localhost:8080/"
        },
        "id": "C32ZVP4WFpmG",
        "outputId": "023c61be-5cd1-4c04-8e7a-9c239669eda0"
      },
      "execution_count": null,
      "outputs": [
        {
          "output_type": "execute_result",
          "data": {
            "text/plain": [
              "KNeighborsClassifier(n_neighbors=3)"
            ]
          },
          "metadata": {},
          "execution_count": 252
        }
      ]
    },
    {
      "cell_type": "code",
      "source": [
        "#test score\n",
        "knn.score(X_test,y_test)"
      ],
      "metadata": {
        "colab": {
          "base_uri": "https://localhost:8080/"
        },
        "id": "p1i63PsyFxeZ",
        "outputId": "bfe3696e-c5dc-4390-9dce-a77fa2df69d2"
      },
      "execution_count": null,
      "outputs": [
        {
          "output_type": "execute_result",
          "data": {
            "text/plain": [
              "1.0"
            ]
          },
          "metadata": {},
          "execution_count": 253
        }
      ]
    },
    {
      "cell_type": "code",
      "source": [
        "#knn predictions\n",
        "knn_pred = knn.predict(X_test)"
      ],
      "metadata": {
        "id": "7T0tAKPHJUir"
      },
      "execution_count": null,
      "outputs": []
    },
    {
      "cell_type": "markdown",
      "source": [
        "[link text](https://)⛔ \n",
        "**Correlation doesn't capture non linear relationships**\n",
        "\n",
        "\n",
        "\n",
        "\n"
      ],
      "metadata": {
        "id": "ESbZYLRqYfot"
      }
    },
    {
      "cell_type": "markdown",
      "source": [
        "Univariate feature selection"
      ],
      "metadata": {
        "id": "Z0ssK09e2PlJ"
      }
    },
    {
      "cell_type": "code",
      "source": [
        "data.isnull().sum()"
      ],
      "metadata": {
        "colab": {
          "base_uri": "https://localhost:8080/"
        },
        "id": "SR6fJXqvZvl9",
        "outputId": "bd65b611-410f-42ba-85d2-fb6cbe16b756"
      },
      "execution_count": null,
      "outputs": [
        {
          "output_type": "execute_result",
          "data": {
            "text/plain": [
              "SEM 1 SGPA                2\n",
              "SEM 1 KT                  0\n",
              "SEM 2 SGPA                0\n",
              "SEM 2 KT                  0\n",
              "SEM 3 SGPA                1\n",
              "SEM 3 KT                  2\n",
              "SEM 4 SGPA                0\n",
              "SEM 4 KT                  1\n",
              "SEM 5 SGPA                0\n",
              "SEM 6 SGPA                0\n",
              "SEM 6 KT                  7\n",
              "SEM 7 SGPA                0\n",
              "SEM 8 SGPA                0\n",
              "Hours_On_Assignment       0\n",
              "Hours_On_Studies          0\n",
              "Travel_Time               0\n",
              "Attendance                0\n",
              "Internet_Availability     0\n",
              "Mode_Of_Transportation    0\n",
              "2_hrs_lect                0\n",
              "Submissions               0\n",
              "5_hrs_lect                0\n",
              "5_hrs_pracs               0\n",
              "Coaching_classes          0\n",
              "Label                     0\n",
              "Scocial_Skills            0\n",
              "Average pointer           3\n",
              "dtype: int64"
            ]
          },
          "metadata": {},
          "execution_count": 168
        }
      ]
    },
    {
      "cell_type": "code",
      "source": [
        "data = data.fillna(method='ffill')\n"
      ],
      "metadata": {
        "id": "kmutf1zvVIcY"
      },
      "execution_count": null,
      "outputs": []
    },
    {
      "cell_type": "code",
      "source": [
        "\n",
        "X = data.drop('Label',axis=1)\n",
        "y = data['Label']"
      ],
      "metadata": {
        "id": "YLZ20QQLbh0y"
      },
      "execution_count": null,
      "outputs": []
    },
    {
      "cell_type": "code",
      "source": [
        "X_train,X_test,y_train,y_test = train_test_split(X,y,test_size=0.2)"
      ],
      "metadata": {
        "id": "voNKy45gVPFx"
      },
      "execution_count": null,
      "outputs": []
    },
    {
      "cell_type": "code",
      "source": [
        "selector = SelectKBest(f_classif, k=7)\n",
        "selector.fit(X_train, y_train)\n",
        "scores = -np.log10(selector.pvalues_)\n",
        "scores /= scores.max()"
      ],
      "metadata": {
        "id": "J1quLGpAJja1"
      },
      "execution_count": null,
      "outputs": []
    },
    {
      "cell_type": "code",
      "source": [
        "X_indices = np.arange(X_train.shape[-1])\n",
        "plt.bar(x=X_indices, height=scores,color='orange')\n",
        "plt.title(\"Feature univariate score\")\n",
        "plt.xlabel(\"Feature number\")\n",
        "plt.ylabel(r\"Univariate score ($-Log(p_{value})$)\")\n",
        "plt.show()"
      ],
      "metadata": {
        "colab": {
          "base_uri": "https://localhost:8080/",
          "height": 295
        },
        "id": "Hq3VOe7O3LdN",
        "outputId": "8a373983-8f8a-43c3-e5be-739a57193031"
      },
      "execution_count": null,
      "outputs": [
        {
          "output_type": "display_data",
          "data": {
            "text/plain": [
              "<Figure size 432x288 with 1 Axes>"
            ],
            "image/png": "[encoded data removed]"
          },
          "metadata": {}
        }
      ]
    },
    {
      "cell_type": "markdown",
      "source": [
        "without univariate selection"
      ],
      "metadata": {
        "id": "qOT3V55B54Hp"
      }
    },
    {
      "cell_type": "code",
      "source": [
        "\n",
        "clf = make_pipeline(MinMaxScaler(), LinearSVC())\n",
        "clf.fit(X_train, y_train)\n",
        "print(\n",
        "    \"Classification accuracy without selecting features: {:.3f}\".format(\n",
        "        clf.score(X_test, y_test)\n",
        "    )\n",
        ")\n",
        "\n",
        "svm_weights = np.abs(clf[-1].coef_).sum(axis=0)\n",
        "svm_weights /= svm_weights.sum()"
      ],
      "metadata": {
        "colab": {
          "base_uri": "https://localhost:8080/"
        },
        "id": "lkT2pocc3Wv4",
        "outputId": "91e3b52b-520e-4bc0-dc6a-ce6be0fff9f8"
      },
      "execution_count": null,
      "outputs": [
        {
          "output_type": "stream",
          "name": "stdout",
          "text": [
            "Classification accuracy without selecting features: 1.000\n"
          ]
        }
      ]
    },
    {
      "cell_type": "markdown",
      "source": [
        "After univariate selection"
      ],
      "metadata": {
        "id": "ycJUvMoh5_Ya"
      }
    },
    {
      "cell_type": "code",
      "source": [
        "clf_selected = make_pipeline(SelectKBest(f_classif, k=7), MinMaxScaler(), LinearSVC())\n",
        "clf_selected.fit(X_train, y_train)\n",
        "print(\n",
        "    \"Classification accuracy after univariate feature selection: {:.3f}\".format(\n",
        "        clf_selected.score(X_test, y_test)\n",
        "    )\n",
        ")\n",
        "\n",
        "svm_weights_selected = np.abs(clf_selected[-1].coef_).sum(axis=0)\n",
        "svm_weights_selected /= svm_weights_selected.sum()"
      ],
      "metadata": {
        "colab": {
          "base_uri": "https://localhost:8080/"
        },
        "id": "37PFmSHD57wR",
        "outputId": "5ce86184-344c-4db7-de56-63b00ac32357"
      },
      "execution_count": null,
      "outputs": [
        {
          "output_type": "stream",
          "name": "stdout",
          "text": [
            "Classification accuracy after univariate feature selection: 1.000\n"
          ]
        }
      ]
    },
    {
      "cell_type": "code",
      "source": [
        "X_indices[selector.get_support()]"
      ],
      "metadata": {
        "colab": {
          "base_uri": "https://localhost:8080/"
        },
        "id": "E5g7HOR2WARl",
        "outputId": "f9daa83e-eb3b-4d34-b2a0-3cb7c3c10452"
      },
      "execution_count": null,
      "outputs": [
        {
          "output_type": "execute_result",
          "data": {
            "text/plain": [
              "array([ 0,  6,  8,  9, 11, 12, 25])"
            ]
          },
          "metadata": {},
          "execution_count": 176
        }
      ]
    },
    {
      "cell_type": "code",
      "source": [
        "plt.bar(\n",
        "    X_indices - 0.45, scores, width=0.2, label=r\"Univariate score ($-Log(p_{value})$)\"\n",
        ")\n",
        "\n",
        "plt.bar(X_indices - 0.25, svm_weights, width=0.2, label=\"SVM weight\")\n",
        "\n",
        "plt.bar(\n",
        "    X_indices[selector.get_support()] - 0.05,\n",
        "    svm_weights_selected,\n",
        "    width=0.2,\n",
        "    label=\"SVM weights after selection\",\n",
        ")\n",
        "\n",
        "plt.title(\"Comparing feature selection\")\n",
        "plt.xlabel(\"Feature number\")\n",
        "plt.yticks(())\n",
        "plt.axis(\"tight\")\n",
        "plt.legend(loc=\"upper right\")\n",
        "plt.show()"
      ],
      "metadata": {
        "colab": {
          "base_uri": "https://localhost:8080/",
          "height": 295
        },
        "id": "dDr8oyxx6Dp0",
        "outputId": "09c2e76a-0b8c-4700-882d-575368fd20ef"
      },
      "execution_count": null,
      "outputs": [
        {
          "output_type": "display_data",
          "data": {
            "text/plain": [
              "<Figure size 432x288 with 1 Axes>"
            ],
            "image/png": "[encoded data removed]"
          },
          "metadata": {}
        }
      ]
    },
    {
      "cell_type": "markdown",
      "source": [
        "\n",
        "\n",
        "*   A highly correlated feature is given high value\n",
        "*   Less correlated feature is given low weight\n",
        "-------------------------------------------------------------------------------\n",
        "\n",
        "\n",
        "\n"
      ],
      "metadata": {
        "id": "udizqKzeXkNV"
      }
    },
    {
      "cell_type": "markdown",
      "source": [
        "## Wrapper method   "
      ],
      "metadata": {
        "id": "D5aQtNdVW1Qi"
      }
    },
    {
      "cell_type": "markdown",
      "source": [
        "\n",
        "Unlike filter methods Wrapper methods use series of models to generate subset of features.  \n",
        "Based on the previous training model observations to will add or remove the new features"
      ],
      "metadata": {
        "id": "azakLuFFVeQG"
      }
    },
    {
      "cell_type": "markdown",
      "source": [
        " \n",
        "**1.Recursive Feature Elimination with cross validation:**  \n",
        "RFE eleminates the features 0 to N iteratively based on accuracy score using cross validation"
      ],
      "metadata": {
        "id": "iy7_xwOvVtbh"
      }
    },
    {
      "cell_type": "code",
      "source": [
        "X_train_std = StandardScaler().fit_transform(X_train)\n",
        "X_test_std = StandardScaler().fit_transform(X_test)"
      ],
      "metadata": {
        "id": "l7RRBtQysXVr"
      },
      "execution_count": null,
      "outputs": []
    },
    {
      "cell_type": "code",
      "source": [
        "from sklearn.svm import SVC\n",
        "from sklearn.tree import DecisionTreeClassifier\n",
        "# svc = SVC(kernel=\"linear\")\n",
        "estimator = DecisionTreeClassifier() \n",
        "# The \"accuracy\" scoring shows the proportion of correct classifications\n",
        "\n",
        "min_features_to_select =5  # Minimum number of features to consider\n",
        "rfecv = RFECV(\n",
        "    estimator=estimator,\n",
        "    step=1,\n",
        "    cv=StratifiedKFold(5),\n",
        "    scoring=\"accuracy\",\n",
        "    min_features_to_select=min_features_to_select,\n",
        ")\n",
        "rfecv.fit(X_train_std, y_train)\n"
      ],
      "metadata": {
        "id": "AdXwiEgi6N-9",
        "colab": {
          "base_uri": "https://localhost:8080/"
        },
        "outputId": "0713c444-4bd8-4f2f-ce8a-e9de8e144a3e"
      },
      "execution_count": null,
      "outputs": [
        {
          "output_type": "execute_result",
          "data": {
            "text/plain": [
              "RFECV(cv=StratifiedKFold(n_splits=5, random_state=None, shuffle=False),\n",
              "      estimator=DecisionTreeClassifier(), min_features_to_select=5,\n",
              "      scoring='accuracy')"
            ]
          },
          "metadata": {},
          "execution_count": 179
        }
      ]
    },
    {
      "cell_type": "code",
      "source": [
        "\n",
        "print(\"Optimal number of features : %d\" % rfecv.n_features_)\n"
      ],
      "metadata": {
        "colab": {
          "base_uri": "https://localhost:8080/"
        },
        "id": "cOHTwg7Xvnnj",
        "outputId": "8194d578-e2da-46ab-d6ba-b729b29d0358"
      },
      "execution_count": null,
      "outputs": [
        {
          "output_type": "stream",
          "name": "stdout",
          "text": [
            "Optimal number of features : 5\n"
          ]
        }
      ]
    },
    {
      "cell_type": "code",
      "source": [
        "\n",
        "# Plot number of features VS. cross-validation scores\n",
        "plt.figure()\n",
        "plt.xlabel(\"Number of features selected\")\n",
        "plt.ylabel(\"Cross validation score (accuracy)\")\n",
        "plt.plot(\n",
        "    range(min_features_to_select, len(rfecv.grid_scores_) + min_features_to_select),\n",
        "    rfecv.grid_scores_,\n",
        ")\n",
        "plt.show()"
      ],
      "metadata": {
        "colab": {
          "base_uri": "https://localhost:8080/",
          "height": 279
        },
        "id": "p4uWiJ_-vqRW",
        "outputId": "bba9b86e-366c-4933-9d0a-0bbfef7b26c1"
      },
      "execution_count": null,
      "outputs": [
        {
          "output_type": "display_data",
          "data": {
            "text/plain": [
              "<Figure size 432x288 with 1 Axes>"
            ],
            "image/png": "[encoded data removed]"
          },
          "metadata": {}
        }
      ]
    },
    {
      "cell_type": "markdown",
      "source": [
        "**2.Sequential Forward Selection(SFS)**"
      ],
      "metadata": {
        "id": "oQffoSPV4MKo"
      }
    },
    {
      "cell_type": "code",
      "source": [
        "from sklearn.feature_selection import SequentialFeatureSelector\n",
        "from sklearn.linear_model import RidgeCV\n",
        "ridge = RidgeCV(alphas=np.logspace(-6, 6, num=5)).fit(X_train_std, y_train)\n"
      ],
      "metadata": {
        "id": "_XA5DCw7ZU__"
      },
      "execution_count": null,
      "outputs": []
    },
    {
      "cell_type": "code",
      "source": [
        "\n",
        "#forward feature selection\n",
        "sfs_forward = SequentialFeatureSelector(\n",
        "    ridge, n_features_to_select=7, direction=\"forward\"\n",
        ").fit(X_train_std, y_train)\n"
      ],
      "metadata": {
        "id": "K_KuoT7L1KVg"
      },
      "execution_count": null,
      "outputs": []
    },
    {
      "cell_type": "code",
      "source": [
        "#bckward feature selection\n",
        "sfs_backward = SequentialFeatureSelector(\n",
        "    ridge, n_features_to_select=7, direction=\"backward\"\n",
        ").fit(X_train_std, y_train)\n"
      ],
      "metadata": {
        "id": "0maQkEpA1NPC"
      },
      "execution_count": null,
      "outputs": []
    },
    {
      "cell_type": "code",
      "source": [
        "#creating array of feature names\n",
        "feature_names = np.array(X.columns)"
      ],
      "metadata": {
        "id": "1EZaouH61UQs"
      },
      "execution_count": null,
      "outputs": []
    },
    {
      "cell_type": "code",
      "source": [
        "\n",
        "print(\n",
        "    \"Features selected by forward sequential selection: \"\n",
        "    f\"{feature_names[sfs_forward.get_support()]}\"\n",
        ")\n",
        "print(\n",
        "    \"Features selected by backward sequential selection: \"\n",
        "    f\"{feature_names[sfs_backward.get_support()]}\"\n",
        ")\n"
      ],
      "metadata": {
        "colab": {
          "base_uri": "https://localhost:8080/"
        },
        "id": "3Kq9J4Lg1zjO",
        "outputId": "c66d79a7-1f50-4d51-f133-444508eae479"
      },
      "execution_count": null,
      "outputs": [
        {
          "output_type": "stream",
          "name": "stdout",
          "text": [
            "Features selected by forward sequential selection: ['SEM 1 KT' 'SEM 3 KT' 'SEM 4 KT' 'SEM 8 SGPA' '2_hrs_lect' '5_hrs_pracs'\n",
            " 'Average pointer']\n",
            "Features selected by backward sequential selection: ['SEM 1 SGPA' 'SEM 1 KT' 'SEM 3 KT' 'SEM 4 KT' 'SEM 8 SGPA' '2_hrs_lect'\n",
            " '5_hrs_pracs']\n"
          ]
        }
      ]
    },
    {
      "cell_type": "markdown",
      "source": [
        "# models\n"
      ],
      "metadata": {
        "id": "CP5WzxDkExay"
      }
    },
    {
      "cell_type": "code",
      "source": [
        "X = data[['SEM 1 KT','SEM 3 KT','SEM 4 KT','5_hrs_lect','5_hrs_pracs',\n",
        " 'Scocial_Skills','Average pointer']]\n"
      ],
      "metadata": {
        "id": "nLO22swVEJRZ"
      },
      "execution_count": null,
      "outputs": []
    },
    {
      "cell_type": "code",
      "source": [
        "X_train,X_test,y_train,y_test = train_test_split(X,y,test_size=0.3,random_state = 42)"
      ],
      "metadata": {
        "id": "3cBo9bE9HAM1"
      },
      "execution_count": null,
      "outputs": []
    },
    {
      "cell_type": "code",
      "source": [
        "#Naive Bayes\n",
        "nb_2 = GaussianNB()\n",
        "nb_2.fit(X_train,y_train)"
      ],
      "metadata": {
        "colab": {
          "base_uri": "https://localhost:8080/"
        },
        "id": "OvbDP-aBHJLo",
        "outputId": "562b0cc0-1a35-4e8c-a1dc-874aac723b09"
      },
      "execution_count": null,
      "outputs": [
        {
          "output_type": "execute_result",
          "data": {
            "text/plain": [
              "GaussianNB()"
            ]
          },
          "metadata": {},
          "execution_count": 190
        }
      ]
    },
    {
      "cell_type": "code",
      "source": [
        "#test score\n",
        "nb_2.score(X_test,y_test)"
      ],
      "metadata": {
        "colab": {
          "base_uri": "https://localhost:8080/"
        },
        "id": "pGaJtylcHaXV",
        "outputId": "7c789e36-9db7-40ea-dca9-680aca323ac2"
      },
      "execution_count": null,
      "outputs": [
        {
          "output_type": "execute_result",
          "data": {
            "text/plain": [
              "1.0"
            ]
          },
          "metadata": {},
          "execution_count": 191
        }
      ]
    },
    {
      "cell_type": "code",
      "source": [
        "#Naive Bayes predictions\n",
        "nb_pred_2 = nb_2.predict(X_test)"
      ],
      "metadata": {
        "id": "wxxBlCkgIoHv"
      },
      "execution_count": null,
      "outputs": []
    },
    {
      "cell_type": "code",
      "source": [
        "#KNN\n",
        "knn_2 = KNeighborsClassifier(n_neighbors=4)\n",
        "knn_2.fit(X_train,y_train)\n"
      ],
      "metadata": {
        "colab": {
          "base_uri": "https://localhost:8080/"
        },
        "id": "7Vbha5r_Ho7V",
        "outputId": "58e95a09-b591-48a3-d448-c565806f3296"
      },
      "execution_count": null,
      "outputs": [
        {
          "output_type": "execute_result",
          "data": {
            "text/plain": [
              "KNeighborsClassifier(n_neighbors=4)"
            ]
          },
          "metadata": {},
          "execution_count": 192
        }
      ]
    },
    {
      "cell_type": "code",
      "source": [
        "#test score\n",
        "knn_2.score(X_test,y_test)"
      ],
      "metadata": {
        "colab": {
          "base_uri": "https://localhost:8080/"
        },
        "id": "ATQXVmxsH2Tv",
        "outputId": "84f0be63-4e37-4002-dd56-a7225baf928e"
      },
      "execution_count": null,
      "outputs": [
        {
          "output_type": "execute_result",
          "data": {
            "text/plain": [
              "1.0"
            ]
          },
          "metadata": {},
          "execution_count": 193
        }
      ]
    },
    {
      "cell_type": "code",
      "source": [
        "#knn predictions\n",
        "knn_pred_2 = knn_2.predict(X_test)"
      ],
      "metadata": {
        "id": "RdRH-bKfI53q"
      },
      "execution_count": null,
      "outputs": []
    },
    {
      "cell_type": "markdown",
      "source": [
        "Classification report"
      ],
      "metadata": {
        "id": "IEGfj7owIjgy"
      }
    },
    {
      "cell_type": "code",
      "source": [
        "from sklearn.metrics import classification_report\n",
        "print(classification_report(y_test,nb_pred))"
      ],
      "metadata": {
        "colab": {
          "base_uri": "https://localhost:8080/"
        },
        "id": "epM9VCbfIjDy",
        "outputId": "d889af04-04a5-4660-c6b2-781541bec6c4"
      },
      "execution_count": null,
      "outputs": [
        {
          "output_type": "stream",
          "name": "stdout",
          "text": [
            "              precision    recall  f1-score   support\n",
            "\n",
            "           0       0.94      1.00      0.97        16\n",
            "           1       1.00      0.97      0.99        37\n",
            "\n",
            "    accuracy                           0.98        53\n",
            "   macro avg       0.97      0.99      0.98        53\n",
            "weighted avg       0.98      0.98      0.98        53\n",
            "\n"
          ]
        }
      ]
    },
    {
      "cell_type": "code",
      "source": [
        "cm = confusion_matrix(y_test, nb_pred)\n",
        "sns.heatmap(cm,annot=True)\n",
        "plt.show()"
      ],
      "metadata": {
        "colab": {
          "base_uri": "https://localhost:8080/",
          "height": 265
        },
        "id": "JhJRsl0oJO0k",
        "outputId": "79f1570a-7eb8-4232-f2ce-f7d591fbd405"
      },
      "execution_count": null,
      "outputs": [
        {
          "output_type": "display_data",
          "data": {
            "text/plain": [
              "<Figure size 432x288 with 2 Axes>"
            ],
            "image/png": "[encoded data removed]"
          },
          "metadata": {}
        }
      ]
    }
  ],
  "metadata": {
    "colab": {
      "provenance": [],
      "collapsed_sections": [
        "zy5W_v0W21lE",
        "ehXq5g0AM9CJ",
        "6QJPRtf9eZio"
      ]
    },
    "kernelspec": {
      "display_name": "Python 3",
      "name": "python3"
    },
    "language_info": {
      "name": "python"
    }
  },
  "nbformat": 4,
  "nbformat_minor": 0
}